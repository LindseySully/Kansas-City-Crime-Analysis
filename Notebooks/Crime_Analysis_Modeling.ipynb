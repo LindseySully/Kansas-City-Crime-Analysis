{
 "cells": [
  {
   "cell_type": "markdown",
   "metadata": {},
   "source": [
    "# Crime Analysis Modeling"
   ]
  },
  {
   "cell_type": "markdown",
   "metadata": {},
   "source": [
    "The purpose of this notebook is to begin the training of machine learning algorithms to analyze the likelihood of becoming a victim of a crime - violent or non-violent within Kansas City Metropolotian area based on the time of the year and the individuals age range. \n",
    "\n",
    "It will be done in two parts - first through a multi-label classification by predicting if a crime Is_Violent, Is_Property_Crime, Is_Crime_Against_Person, Is_Crime_Against_Society and through single label classification of Offense_Rank which is ordinal encoded based on the UCR program classifications.  "
   ]
  },
  {
   "cell_type": "markdown",
   "metadata": {},
   "source": [
    "## Read in CSV"
   ]
  },
  {
   "cell_type": "code",
   "execution_count": 2,
   "metadata": {},
   "outputs": [],
   "source": [
    "import pandas as pd\n",
    "csv_file_path = '/Users/lindseysullivan/Documents/School/Kansas-City-Crime-Analysis/Data/Data_Sets/KCPD-5-Year-Analysis-Model.csv'\n",
    "df = pd.read_csv(csv_file_path)"
   ]
  },
  {
   "cell_type": "markdown",
   "metadata": {},
   "source": [
    "# Multi-Label Classification Predictive Models\n",
    "\n",
    "### Is_Violent/Type of Crime (Is_Property_Crime, Is_Crime_Against_Person, Is_Crime_Against_Society)\n",
    "The selection of these features is to quickly analyze if a crime would be violent and the classification of the crime based on the time frame and the age_range explored below. This is explored through the Random Forest, K-Nearest Neighbor (K-NN), and an Support Vector Model (SVM) models."
   ]
  },
  {
   "cell_type": "markdown",
   "metadata": {},
   "source": [
    "## Random Forest"
   ]
  },
  {
   "cell_type": "code",
   "execution_count": 3,
   "metadata": {},
   "outputs": [
    {
     "name": "stdout",
     "output_type": "stream",
     "text": [
      "Model accuracy: 0.9984\n",
      "--------------------\n",
      "Classification Report:\n",
      "                           precision    recall  f1-score   support\n",
      "\n",
      "               Is_Violent      1.000     0.998     0.999     14434\n",
      "        Is_Property_Crime      0.999     1.000     1.000     29529\n",
      " Is_Crimes_Against_Person      0.999     0.994     0.996     11301\n",
      "Is_Crimes_Against_Society      0.998     0.999     0.999     48228\n",
      "\n",
      "                micro avg      0.999     0.999     0.999    103492\n",
      "                macro avg      0.999     0.998     0.998    103492\n",
      "             weighted avg      0.999     0.999     0.999    103492\n",
      "              samples avg      0.999     0.999     0.999    103492\n",
      "\n",
      "--------------------\n",
      "Multilabel Confusion Matrix:\n",
      "[[[74624     0]\n",
      "  [   30 14404]]\n",
      "\n",
      " [[59512    17]\n",
      "  [   12 29517]]\n",
      "\n",
      " [[77743    14]\n",
      "  [   65 11236]]\n",
      "\n",
      " [[40756    74]\n",
      "  [   35 48193]]]\n",
      "--------------------\n",
      "Individual Label Accuracies: Is_Violent                   0.999663\n",
      "Is_Property_Crime            0.999674\n",
      "Is_Crimes_Against_Person     0.999113\n",
      "Is_Crimes_Against_Society    0.998776\n",
      "dtype: float64\n"
     ]
    }
   ],
   "source": [
    "from sklearn.ensemble import RandomForestClassifier\n",
    "from sklearn.model_selection import train_test_split\n",
    "from sklearn.metrics import accuracy_score, classification_report, multilabel_confusion_matrix\n",
    "\n",
    "# Feature and Target Setup\n",
    "X = df[['sin_Quarter', 'cos_Quarter', 'sin_Months', 'cos_Months', 'sin_DayOfWeek', 'cos_DayOfWeek', 'Offense_Rank', 'age_range_encoded']]\n",
    "y = df[['Is_Violent', 'Is_Property_Crime', 'Is_Crimes_Against_Person', 'Is_Crimes_Against_Society']]\n",
    "\n",
    "# Splitting Data into Train/Test sets\n",
    "X_train, X_test, y_train, y_test = train_test_split(X, y, test_size=0.2, random_state=42)\n",
    "\n",
    "# Initializing and training the Random Forest Classifier\n",
    "rf_classifier = RandomForestClassifier(n_estimators=100, random_state=42)\n",
    "rf_classifier.fit(X_train, y_train)\n",
    "\n",
    "# Predicting on the test set\n",
    "y_pred = rf_classifier.predict(X_test)\n",
    "\n",
    "# Accuracy \n",
    "accuracy = accuracy_score(y_test, y_pred)\n",
    "\n",
    "# Evaluating the model\n",
    "print(f'Model accuracy: {accuracy:.4f}')\n",
    "print('--------------------')\n",
    "print('Classification Report:')\n",
    "print(classification_report(y_test, y_pred, target_names=y.columns,digits=3, zero_division=0))\n",
    "print('--------------------')\n",
    "print('Multilabel Confusion Matrix:')\n",
    "print(multilabel_confusion_matrix(y_test, y_pred))\n",
    "print('--------------------')\n",
    "individual_accuracies = (y_pred == y_test).mean(axis=0)\n",
    "print(f\"Individual Label Accuracies: {individual_accuracies}\")"
   ]
  },
  {
   "cell_type": "markdown",
   "metadata": {},
   "source": [
    "## k-NN (k-Nearest Neighbor)"
   ]
  },
  {
   "cell_type": "code",
   "execution_count": 4,
   "metadata": {},
   "outputs": [
    {
     "name": "stdout",
     "output_type": "stream",
     "text": [
      "Model Accuracy: 0.9994\n",
      "--------------------\n",
      "Classification Report:\n",
      "                           precision    recall  f1-score   support\n",
      "\n",
      "               Is_Violent      1.000     0.999     0.999     14434\n",
      "        Is_Property_Crime      1.000     1.000     1.000     29529\n",
      " Is_Crimes_Against_Person      0.999     0.998     0.999     11301\n",
      "Is_Crimes_Against_Society      0.999     1.000     1.000     48228\n",
      "\n",
      "                micro avg      1.000     0.999     1.000    103492\n",
      "                macro avg      1.000     0.999     0.999    103492\n",
      "             weighted avg      1.000     0.999     1.000    103492\n",
      "              samples avg      1.000     0.999     0.999    103492\n",
      "\n",
      "--------------------\n",
      "Multilabel Confusion Matrix:\n",
      "[[[74624     0]\n",
      "  [   15 14419]]\n",
      "\n",
      " [[59520     9]\n",
      "  [    7 29522]]\n",
      "\n",
      " [[77751     6]\n",
      "  [   24 11277]]\n",
      "\n",
      " [[40801    29]\n",
      "  [   13 48215]]]\n",
      "--------------------\n",
      "Individual Label Accuracies: Is_Violent                   0.999832\n",
      "Is_Property_Crime            0.999820\n",
      "Is_Crimes_Against_Person     0.999663\n",
      "Is_Crimes_Against_Society    0.999528\n",
      "dtype: float64\n"
     ]
    }
   ],
   "source": [
    "from sklearn.neighbors import KNeighborsClassifier\n",
    "from sklearn.model_selection import train_test_split\n",
    "from sklearn.metrics import accuracy_score, multilabel_confusion_matrix\n",
    "\n",
    "# Feature and Target Setup\n",
    "X = df[['sin_Quarter', 'cos_Quarter', 'sin_Months', 'cos_Months', 'sin_DayOfWeek', 'cos_DayOfWeek', 'Offense_Rank', 'age_range_encoded']]\n",
    "y = df[['Is_Violent', 'Is_Property_Crime', 'Is_Crimes_Against_Person', 'Is_Crimes_Against_Society']]\n",
    "\n",
    "# Splitting Data into Train/Test sets\n",
    "X_train, X_test, y_train, y_test = train_test_split(X, y, test_size=0.2, random_state=42)\n",
    "\n",
    "k = 5  # Number of neighbors to consider\n",
    "knn = KNeighborsClassifier(n_neighbors=k)\n",
    "\n",
    "knn.fit(X_train, y_train)\n",
    "\n",
    "# Predicting on the test set\n",
    "y_pred = knn.predict(X_test)\n",
    "\n",
    "# Accuracy\n",
    "accuracy = accuracy_score(y_test, y_pred)\n",
    "\n",
    "# Evaluate the Model\n",
    "print(f'Model Accuracy: {accuracy:.4f}')\n",
    "print('--------------------')\n",
    "print('Classification Report:')\n",
    "print(classification_report(y_test, y_pred, target_names=y.columns, zero_division=0, digits=3))\n",
    "print('--------------------')\n",
    "print('Multilabel Confusion Matrix:')\n",
    "print(multilabel_confusion_matrix(y_test, y_pred))\n",
    "print('--------------------')\n",
    "individual_accuracies = (y_pred == y_test).mean(axis=0)\n",
    "print(f\"Individual Label Accuracies: {individual_accuracies}\")"
   ]
  },
  {
   "cell_type": "markdown",
   "metadata": {},
   "source": [
    "## XGBoost"
   ]
  },
  {
   "cell_type": "code",
   "execution_count": 6,
   "metadata": {},
   "outputs": [
    {
     "name": "stdout",
     "output_type": "stream",
     "text": [
      "Model Accuracy: 1.0000\n",
      "--------------------\n",
      "Classification Report:\n",
      "                           precision    recall  f1-score   support\n",
      "\n",
      "               Is_Violent      1.000     1.000     1.000     14434\n",
      "        Is_Property_Crime      1.000     1.000     1.000     29529\n",
      " Is_Crimes_Against_Person      1.000     1.000     1.000     11301\n",
      "Is_Crimes_Against_Society      1.000     1.000     1.000     48228\n",
      "\n",
      "                micro avg      1.000     1.000     1.000    103492\n",
      "                macro avg      1.000     1.000     1.000    103492\n",
      "             weighted avg      1.000     1.000     1.000    103492\n",
      "              samples avg      1.000     1.000     1.000    103492\n",
      "\n",
      "--------------------\n",
      "Multilabel Confusion Matrix:\n",
      "[[[74624     0]\n",
      "  [    0 14434]]\n",
      "\n",
      " [[59529     0]\n",
      "  [    0 29529]]\n",
      "\n",
      " [[77757     0]\n",
      "  [    0 11301]]\n",
      "\n",
      " [[40830     0]\n",
      "  [    0 48228]]]\n",
      "--------------------\n",
      "Individual Label Accuracies: Is_Violent                   1.0\n",
      "Is_Property_Crime            1.0\n",
      "Is_Crimes_Against_Person     1.0\n",
      "Is_Crimes_Against_Society    1.0\n",
      "dtype: float64\n"
     ]
    }
   ],
   "source": [
    "import xgboost as xgb\n",
    "from sklearn.model_selection import train_test_split\n",
    "from sklearn.metrics import accuracy_score, classification_report, multilabel_confusion_matrix\n",
    "\n",
    "# Features and Target Setup\n",
    "X = df[['sin_Quarter', 'cos_Quarter', 'sin_Months', 'cos_Months', 'sin_DayOfWeek', 'cos_DayOfWeek', 'Offense_Rank', 'age_range_encoded']]\n",
    "y = df[['Is_Violent', 'Is_Property_Crime', 'Is_Crimes_Against_Person', 'Is_Crimes_Against_Society']]\n",
    "\n",
    "# Split the data into training/test sets\n",
    "X_train, X_test, y_train, y_test = train_test_split(X, y, test_size=0.2, random_state=42)\n",
    "\n",
    "# Initialize the XGBoost classifier\n",
    "xgb_clf = xgb.XGBClassifier(objective='binary:logistic', eval_metric='logloss', use_label_encoder=False)\n",
    "\n",
    "xgb_clf.fit(X_train, y_train)\n",
    "\n",
    "# Predict the labels of the test set\n",
    "y_pred = xgb_clf.predict(X_test)\n",
    "\n",
    "# Evaluate the model\n",
    "accuracy = accuracy_score(y_test, y_pred)\n",
    "print(f'Model Accuracy: {accuracy:.4f}')\n",
    "print('--------------------')\n",
    "print('Classification Report:')\n",
    "print(classification_report(y_test, y_pred, target_names=y.columns,digits=3, zero_division=0))\n",
    "print('--------------------')\n",
    "print('Multilabel Confusion Matrix:')\n",
    "print(multilabel_confusion_matrix(y_test, y_pred))\n",
    "print('--------------------')\n",
    "individual_accuracies = (y_pred == y_test).mean(axis=0)\n",
    "print(f\"Individual Label Accuracies: {individual_accuracies}\")\n"
   ]
  },
  {
   "cell_type": "markdown",
   "metadata": {},
   "source": [
    "## Model Performance\n",
    "### Random Forest\n",
    "| **Features**     | **Precision** | **Recall** | **F1-Score** | **Support** |**Individual Accuracy**|\n",
    "|-----------|-----------|--------|----------|---------|-------------------|\n",
    "| Violent   | 1.000      | 0.998  | 0.999    | 14434   | 0.999663 |\n",
    "| Property  | 0.999     | 1.000  | 1.000    | 29529   | 0.999674 |\n",
    "| Person    | 0.999      | 0.994    | 0.996    | 11301   | 0.999113 |\n",
    "| Society   | 0.998          | 0.999       | 0.999    | 48228   | 0.998776 |\n",
    "|   |   |   |   |   |   |   |\n",
    "| **Model Accuracy** | | | 0.9984  |         |    |\n",
    "\n",
    "### K-Nearest Neighbor\n",
    "| **Features**     | **Precision** | **Recall** | **F1-Score** | **Support** |**Individual Accuracy**|\n",
    "|-----------|-----------|--------|----------|---------|-------------------|\n",
    "| Violent   | 1.000      | 0.999  | 0.999    | 14434   | 0.999832 |\n",
    "| Property  | 1.000      | 1.000  | 1.000    | 29529   | 0.999820 |\n",
    "| Person    | 0.999      | 0.998    | 0.999    | 11301   | 0.999663 |\n",
    "| Society   | 0.999         | 1.000       | 1.000    | 48228   | 0.999528 |\n",
    "|   |   |   |   |   |   |   |\n",
    "| **Model Accuracy** | | | 0.9994  |         |    |\n",
    "\n",
    "### XGBoost\n",
    "| **Features**     | **Precision** | **Recall** | **F1-Score** | **Support** |**Individual Accuracy**|\n",
    "|-----------|-----------|--------|----------|---------|-------------------|\n",
    "| Violent   | 1.000      | 1.000  | 1.000    | 14434   | 1.000 |\n",
    "| Property  | 1.000      | 1.000  | 1.000    | 29529   | 1.000 |\n",
    "| Person    | 1.000      | 1.000    | 1.000    | 11301   | 1.000 |\n",
    "| Society   | 1.000         | 1.000       | 1.000    | 48228   | 1.000 |\n",
    "|   |   |   |   |   |   |   |\n",
    "| **Model Accuracy** | | | 1.000  |         |    |\n"
   ]
  },
  {
   "cell_type": "markdown",
   "metadata": {},
   "source": [
    "## Cross-Validation"
   ]
  },
  {
   "cell_type": "code",
   "execution_count": 7,
   "metadata": {},
   "outputs": [
    {
     "name": "stdout",
     "output_type": "stream",
     "text": [
      "Random Forest CV F1 Scores: [0.99862636 0.99881725 0.99856835 0.99847291 0.99855149]\n",
      "Random Forest CV Average F1 Score: 0.9986\n",
      "Random Forest CV Standard Deviation of F1 Score: 0.0001\n",
      "\n",
      "K-Nearest Neighbor CV F1 Scores: [0.99484606 0.99428649 0.99438755 0.99320106 0.99399261]\n",
      "K-Nearest Neighbor CV Average F1 Score: 0.9941\n",
      "K-Nearest Neighbor CV Standard Deviation of F1 Score: 0.0005\n",
      "\n",
      "XGBoost CV F1 Scores: [1. 1. 1. 1. 1.]\n",
      "XGBoost CV Average F1 Score: 1.0000\n",
      "XGBoost CV Standard Deviation of F1 Score: 0.0000\n",
      "\n"
     ]
    }
   ],
   "source": [
    "from sklearn.model_selection import cross_val_score, train_test_split, KFold\n",
    "from sklearn.preprocessing import StandardScaler\n",
    "from sklearn.ensemble import RandomForestClassifier\n",
    "from sklearn.neighbors import KNeighborsClassifier\n",
    "from sklearn.metrics import f1_score, make_scorer\n",
    "import xgboost as xgb\n",
    "from sklearn.pipeline import Pipeline\n",
    "\n",
    "# Define a custom scorer for multi-label classification\n",
    "def multi_label_f1_score(y_true, y_pred, **kwargs):\n",
    "    # Calculate the F1 score for each class individually and then take the average\n",
    "    return f1_score(y_true, y_pred, average='samples', **kwargs)\n",
    "\n",
    "# Create a scorer object\n",
    "f1_scorer = make_scorer(multi_label_f1_score)\n",
    "\n",
    "# Features and target setup\n",
    "X = df[['sin_Quarter', 'cos_Quarter', 'sin_Months', 'cos_Months', 'sin_DayOfWeek', \n",
    "         'cos_DayOfWeek', 'Offense_Rank', 'age_range_encoded']]\n",
    "y = df[['Is_Violent', 'Is_Property_Crime', 'Is_Crimes_Against_Person', 'Is_Crimes_Against_Society']]\n",
    "\n",
    "# Define the cross-validation strategy\n",
    "cv_strategy = KFold(n_splits=5, shuffle=True, random_state=42)\n",
    "\n",
    "# Define the models with a pipeline that includes the scaler\n",
    "models = {\n",
    "    'Random Forest': Pipeline([\n",
    "        ('scaler', StandardScaler()),\n",
    "        ('classifier', RandomForestClassifier(n_estimators=100, random_state=42))\n",
    "    ]),\n",
    "    'K-Nearest Neighbor': Pipeline([\n",
    "        ('scaler', StandardScaler()),\n",
    "        ('classifier', KNeighborsClassifier(n_neighbors=5))\n",
    "    ]),\n",
    "    'XGBoost': Pipeline([\n",
    "        ('scaler', StandardScaler()),\n",
    "        ('classifier', xgb.XGBClassifier(\n",
    "            objective='binary:logistic', eval_metric='logloss', use_label_encoder=False, random_state=42\n",
    "        ))\n",
    "    ])\n",
    "}\n",
    "\n",
    "# Perform cross-validation for each model\n",
    "for model_name, pipeline in models.items():\n",
    "    cv_scores = cross_val_score(pipeline, X, y, cv=cv_strategy, scoring=f1_scorer, n_jobs=-1)\n",
    "    \n",
    "    # Output the results\n",
    "    print(f\"{model_name} CV F1 Scores: {cv_scores}\")\n",
    "    print(f\"{model_name} CV Average F1 Score: {cv_scores.mean():.4f}\")\n",
    "    print(f\"{model_name} CV Standard Deviation of F1 Score: {cv_scores.std():.4f}\\n\")\n"
   ]
  }
 ],
 "metadata": {
  "kernelspec": {
   "display_name": "base",
   "language": "python",
   "name": "python3"
  },
  "language_info": {
   "codemirror_mode": {
    "name": "ipython",
    "version": 3
   },
   "file_extension": ".py",
   "mimetype": "text/x-python",
   "name": "python",
   "nbconvert_exporter": "python",
   "pygments_lexer": "ipython3",
   "version": "3.9.12"
  }
 },
 "nbformat": 4,
 "nbformat_minor": 2
}
