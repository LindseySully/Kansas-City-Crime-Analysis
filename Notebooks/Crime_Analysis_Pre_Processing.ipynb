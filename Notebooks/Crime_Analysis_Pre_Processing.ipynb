{
 "cells": [
  {
   "cell_type": "markdown",
   "metadata": {},
   "source": [
    "## Multiple Imputation\n",
    "Leveraging Multiple Imputation as a portion of the data preprocessing to ensure the Age_Range *null* values are handled accordingly before the feature engineering portion of the project. "
   ]
  },
  {
   "cell_type": "markdown",
   "metadata": {},
   "source": [
    "### Libraries"
   ]
  },
  {
   "cell_type": "code",
   "execution_count": 2,
   "metadata": {},
   "outputs": [],
   "source": [
    "import pandas as pd\n",
    "import numpy as np\n",
    "from sklearn.impute import SimpleImputer"
   ]
  },
  {
   "cell_type": "markdown",
   "metadata": {},
   "source": [
    "### Read CSV & Check Null Values"
   ]
  },
  {
   "cell_type": "code",
   "execution_count": 6,
   "metadata": {},
   "outputs": [
    {
     "name": "stdout",
     "output_type": "stream",
     "text": [
      "    Report_No Reported_Date Reported_Time  Year  Quarter  Month Day_of_Week  \\\n",
      "0  KC19020397       3/20/19      13:55:00  2019        1  March   Wednesday   \n",
      "1  KC19025235        4/7/19      15:52:00  2019        2  April      Sunday   \n",
      "2  KC19036511       5/17/19      20:27:00  2019        2    May    Thursday   \n",
      "3  KC19024315        4/4/19      04:20:00  2019        2  April   Wednesday   \n",
      "4  KC19035992       5/16/19      08:17:00  2019        2    May    Thursday   \n",
      "\n",
      "  From_Date From_Time Adjusted_To_Date  ... Zip_Code Area  Involvement Race  \\\n",
      "0   3/20/19  09:00:00          3/20/19  ...  64118.0  NPD      CMP VIC    W   \n",
      "1    4/7/19  15:45:00           4/7/19  ...      NaN  EPD          VIC    B   \n",
      "2   5/16/19  20:30:00          5/16/19  ...  64138.0  MPD          VIC    B   \n",
      "3    4/3/19  21:30:00           4/4/19  ...  64120.0  NaN  ARR SUS CHA    B   \n",
      "4   5/16/19  08:15:00          5/16/19  ...  64119.0  SCP          VIC    W   \n",
      "\n",
      "  Sex   Age Age_Range                                           Location  \\\n",
      "0   F  18.0     18-24  500  NW 73RD ST\\nKANSAS CITY 64118\\n(39.226995...   \n",
      "1   F  40.0     35-44  E 12TH ST and HARDESTY AVE\\nKANSAS CITY\\n(39.0...   \n",
      "2   F  30.0     25-34  8600  HILLCREST RD\\nKANSAS CITY 64138\\n(38.968...   \n",
      "3   M  26.0     25-34  1900  NICHOLSON AVE\\nKANSAS CITY 64120\\n(39.11...   \n",
      "4   F  36.0     35-44  6900  NE 56TH ST\\nKANSAS CITY 64119\\n(39.19444...   \n",
      "\n",
      "  Firearm_Flag DVFlag  \n",
      "0        False   True  \n",
      "1        False   True  \n",
      "2         True  False  \n",
      "3         True   True  \n",
      "4        False  False  \n",
      "\n",
      "[5 rows x 30 columns]\n",
      "Report_No                               0\n",
      "Reported_Date                           0\n",
      "Reported_Time                           0\n",
      "Year                                    0\n",
      "Quarter                                 0\n",
      "Month                                   0\n",
      "Day_of_Week                             0\n",
      "From_Date                               0\n",
      "From_Time                               0\n",
      "Adjusted_To_Date                        0\n",
      "Adjusted_To_Time                        0\n",
      "Offense                                 0\n",
      "Description                         24117\n",
      "General _Offense_Categorization         0\n",
      "Type_of_Crime                           0\n",
      "UCR_Offense_Classification              0\n",
      "NIBRS                                   0\n",
      "NIBRS Offense Group                     0\n",
      "Address                                 0\n",
      "City                                    0\n",
      "Zip_Code                            35523\n",
      "Area                                 2094\n",
      "Involvement                             0\n",
      "Race                                60002\n",
      "Sex                                 56829\n",
      "Age                                120452\n",
      "Age_Range                           73348\n",
      "Location                            55847\n",
      "Firearm_Flag                            0\n",
      "DVFlag                                  0\n",
      "dtype: int64\n"
     ]
    }
   ],
   "source": [
    "csv_file_path = 'Data/Data_Sets/KCPD_5_Year_Analysis_Cleaned.csv'\n",
    "df = pd.read_csv(csv_file_path)\n",
    "print(df.head())\n",
    "\n",
    "print(df.isnull().sum())"
   ]
  },
  {
   "cell_type": "markdown",
   "metadata": {},
   "source": [
    "### Custom Imputation Function\n",
    "Replacing imputes that are missing **'Age_Range'** values and it is based on the most common **'Age_Range'** within each category. It is worth noting that only 73,348 values are missing out of the 445,336 rows, which is about 16% of the dataset. "
   ]
  },
  {
   "cell_type": "code",
   "execution_count": 14,
   "metadata": {},
   "outputs": [],
   "source": [
    "# Replace 'Null' strings with np.nan\n",
    "df['Age_Range'].replace('Null',np.nan, inplace=True)\n",
    "\n",
    "def impute_age_range(row, offense_age_map):\n",
    "    # Check if age_range is NaN\n",
    "    if pd.isnull(row['Age_Range']):\n",
    "        if row['General _Offense_Categorization'] in offense_age_map:\n",
    "            return offense_age_map[row['General _Offense_Categorization']]\n",
    "        else: \n",
    "            return np.nan\n",
    "    else:\n",
    "        # if age_range is not NaN, return it as is\n",
    "        return row['Age_Range']\n",
    "\n",
    "# creating a map of the most frequent age_range\n",
    "offense_age_map = df.dropna(subset=['Age_Range']).groupby('General _Offense_Categorization')['Age_Range'].agg(lambda x: x.mode().iloc[0])\n",
    "\n",
    "# apply the custom imputation function\n",
    "df['Age_Range'] = df.apply(impute_age_range,offense_age_map=offense_age_map,axis=1)"
   ]
  },
  {
   "cell_type": "markdown",
   "metadata": {},
   "source": [
    "### Review DataFrame Values After Custom Imputation"
   ]
  },
  {
   "cell_type": "code",
   "execution_count": 15,
   "metadata": {},
   "outputs": [
    {
     "name": "stdout",
     "output_type": "stream",
     "text": [
      "Report_No                               0\n",
      "Reported_Date                           0\n",
      "Reported_Time                           0\n",
      "Year                                    0\n",
      "Quarter                                 0\n",
      "Month                                   0\n",
      "Day_of_Week                             0\n",
      "From_Date                               0\n",
      "From_Time                               0\n",
      "Adjusted_To_Date                        0\n",
      "Adjusted_To_Time                        0\n",
      "Offense                                 0\n",
      "Description                         24117\n",
      "General _Offense_Categorization         0\n",
      "Type_of_Crime                           0\n",
      "UCR_Offense_Classification              0\n",
      "NIBRS                                   0\n",
      "NIBRS Offense Group                     0\n",
      "Address                                 0\n",
      "City                                    0\n",
      "Zip_Code                            35523\n",
      "Area                                 2094\n",
      "Involvement                             0\n",
      "Race                                60002\n",
      "Sex                                 56829\n",
      "Age                                120452\n",
      "Age_Range                               0\n",
      "Location                            55847\n",
      "Firearm_Flag                            0\n",
      "DVFlag                                  0\n",
      "dtype: int64\n",
      "         General _Offense_Categorization Age_Range\n",
      "0                     Aggravated Assault     18-24\n",
      "1                     Aggravated Assault     35-44\n",
      "2                                Robbery     25-34\n",
      "3                     Aggravated Assault     25-34\n",
      "4                         Other Assaults     35-44\n",
      "5                     All Other Offenses     45-54\n",
      "6                  Drug Abuse Violations     35-44\n",
      "7                          Larceny-theft     45-54\n",
      "8                           Sex Offenses     25-34\n",
      "9                         Other Assaults     25-34\n",
      "10                    All Other Offenses     55-64\n",
      "11                    Aggravated Assault     25-34\n",
      "12                         Larceny-theft     25-34\n",
      "13  Prostitution and Commercialized Vice     35-44\n",
      "14                        Other Assaults     55-64\n",
      "15                    Aggravated Assault     18-24\n",
      "16                               Robbery     25-34\n",
      "17        Burglary/Breaking and Entering     25-34\n",
      "18                        Other Assaults     18-24\n",
      "19                               Robbery     55-64\n",
      "20                    All Other Offenses     25-34\n",
      "21                        Other Assaults     25-34\n",
      "22                   Motor Vehicle Theft     25-34\n",
      "23                   Motor Vehicle Theft     25-34\n",
      "24                         Larceny-theft     25-34\n"
     ]
    }
   ],
   "source": [
    "# check for missing values\n",
    "print(df.isnull().sum())\n",
    "\n",
    "# inspect df values\n",
    "print(df[['General _Offense_Categorization','Age_Range']].head(25))"
   ]
  },
  {
   "cell_type": "markdown",
   "metadata": {},
   "source": [
    "### Remove Columns/Renaming Columns\n",
    "After determining the necessary values and reviewing the relationships in the EDA process; I'll be removing more columns and renaming as well before the feature engineering portion."
   ]
  },
  {
   "cell_type": "code",
   "execution_count": 17,
   "metadata": {},
   "outputs": [],
   "source": [
    "# define columns to remove\n",
    "columns_to_remove = ['Reported_Date','Reported_Time','Offense','Description','Address','City','Zip_Code','Area','Involvement','Race','Sex','Age','Location','Firearm_Flag','DVFlag'] \n",
    "df = df.drop(columns=columns_to_remove)\n",
    "\n",
    "# rename columns\n",
    "rename_columns = {\n",
    "    'General _Offense_Categorizatio': 'General_Offense_Categorization'\n",
    "}\n",
    "df = df.rename(columns=rename_columns)"
   ]
  },
  {
   "cell_type": "code",
   "execution_count": 18,
   "metadata": {},
   "outputs": [
    {
     "name": "stdout",
     "output_type": "stream",
     "text": [
      "<class 'pandas.core.frame.DataFrame'>\n",
      "RangeIndex: 445289 entries, 0 to 445288\n",
      "Data columns (total 15 columns):\n",
      " #   Column                           Non-Null Count   Dtype \n",
      "---  ------                           --------------   ----- \n",
      " 0   Report_No                        445289 non-null  object\n",
      " 1   Year                             445289 non-null  int64 \n",
      " 2   Quarter                          445289 non-null  int64 \n",
      " 3   Month                            445289 non-null  object\n",
      " 4   Day_of_Week                      445289 non-null  object\n",
      " 5   From_Date                        445289 non-null  object\n",
      " 6   From_Time                        445289 non-null  object\n",
      " 7   Adjusted_To_Date                 445289 non-null  object\n",
      " 8   Adjusted_To_Time                 445289 non-null  object\n",
      " 9   General _Offense_Categorization  445289 non-null  object\n",
      " 10  Type_of_Crime                    445289 non-null  object\n",
      " 11  UCR_Offense_Classification       445289 non-null  object\n",
      " 12  NIBRS                            445289 non-null  object\n",
      " 13  NIBRS Offense Group              445289 non-null  object\n",
      " 14  Age_Range                        445289 non-null  object\n",
      "dtypes: int64(2), object(13)\n",
      "memory usage: 51.0+ MB\n",
      "None\n"
     ]
    }
   ],
   "source": [
    "print(df.info())"
   ]
  },
  {
   "cell_type": "markdown",
   "metadata": {},
   "source": [
    "### Export Corrected Data to New CSV"
   ]
  },
  {
   "cell_type": "code",
   "execution_count": 19,
   "metadata": {},
   "outputs": [],
   "source": [
    "import pandas as pd\n",
    "\n",
    "# file path for the new file\n",
    "file_path = 'Data/Data_Sets/KCPD-5-Year-Analysis-Feature-Eng.CSV'\n",
    "\n",
    "# export the dataframe\n",
    "df.to_csv(file_path,index=False)"
   ]
  }
 ],
 "metadata": {
  "kernelspec": {
   "display_name": "base",
   "language": "python",
   "name": "python3"
  },
  "language_info": {
   "codemirror_mode": {
    "name": "ipython",
    "version": 3
   },
   "file_extension": ".py",
   "mimetype": "text/x-python",
   "name": "python",
   "nbconvert_exporter": "python",
   "pygments_lexer": "ipython3",
   "version": "3.9.12"
  }
 },
 "nbformat": 4,
 "nbformat_minor": 2
}
