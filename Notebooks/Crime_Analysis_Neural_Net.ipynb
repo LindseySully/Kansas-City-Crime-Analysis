{
 "cells": [
  {
   "cell_type": "markdown",
   "metadata": {},
   "source": [
    "# Crime Analysis Neural Network"
   ]
  },
  {
   "cell_type": "markdown",
   "metadata": {},
   "source": [
    "#### Purpose:\n",
    "The purpose of this notebook is to look specifically at Neural Networks which can model more complex relationships and interactions between features. The purpose of using this specific analysis is due to the complex and categorical nature of the features of the data set read in via the pandas library. The hope is that neural network provides more accurate models for the previously explored analysis. "
   ]
  },
  {
   "cell_type": "markdown",
   "metadata": {},
   "source": [
    "### Read in CSV"
   ]
  },
  {
   "cell_type": "code",
   "execution_count": 1,
   "metadata": {},
   "outputs": [],
   "source": [
    "import pandas as pd\n",
    "csv_file_path = '/Users/lindseysullivan/Documents/School/Kansas-City-Crime-Analysis/Data/Data_Sets/KCPD-5-Year-Analysis-Model.csv'\n",
    "df = pd.read_csv(csv_file_path)"
   ]
  },
  {
   "cell_type": "markdown",
   "metadata": {},
   "source": [
    "## Neural Network - Multi-Label "
   ]
  },
  {
   "cell_type": "code",
   "execution_count": 3,
   "metadata": {},
   "outputs": [],
   "source": [
    "import pandas as pd\n",
    "from sklearn.model_selection import train_test_split\n",
    "from sklearn.preprocessing import StandardScaler\n",
    "from keras.models import Sequential\n",
    "from keras.layers import Dense\n",
    "\n",
    "# Feature and Target Setup\n",
    "features = df[['sin_Quarter', 'cos_Quarter', 'sin_Months', 'cos_Months', \n",
    "               'sin_DayOfWeek', 'cos_DayOfWeek', 'Offense_Rank', 'age_range_encoded']]\n",
    "target = df[['Is_Violent', 'Is_Property_Crime', 'Is_Crimes_Against_Person', 'Is_Crimes_Against_Society']]\n",
    "\n",
    "# Splitting dataset\n",
    "X_train, X_test, y_train, y_test = train_test_split(features, target, test_size=0.2, random_state=42)\n",
    "\n",
    "# Scaling features\n",
    "scaler = StandardScaler()\n",
    "X_train_scaled = scaler.fit_transform(X_train)\n",
    "X_test_scaled = scaler.transform(X_test)\n"
   ]
  },
  {
   "cell_type": "markdown",
   "metadata": {},
   "source": [
    "### Compile and Train Model"
   ]
  },
  {
   "cell_type": "code",
   "execution_count": 7,
   "metadata": {},
   "outputs": [
    {
     "name": "stdout",
     "output_type": "stream",
     "text": [
      "Epoch 1/50\n"
     ]
    },
    {
     "name": "stdout",
     "output_type": "stream",
     "text": [
      "\u001b[1m28499/28499\u001b[0m \u001b[32m━━━━━━━━━━━━━━━━━━━━\u001b[0m\u001b[37m\u001b[0m \u001b[1m10s\u001b[0m 354us/step - accuracy: 0.8801 - loss: 0.2041 - val_accuracy: 0.9948 - val_loss: 0.0144\n",
      "Epoch 2/50\n",
      "\u001b[1m28499/28499\u001b[0m \u001b[32m━━━━━━━━━━━━━━━━━━━━\u001b[0m\u001b[37m\u001b[0m \u001b[1m10s\u001b[0m 342us/step - accuracy: 0.9943 - loss: 0.0131 - val_accuracy: 0.9943 - val_loss: 0.0107\n",
      "Epoch 3/50\n",
      "\u001b[1m28499/28499\u001b[0m \u001b[32m━━━━━━━━━━━━━━━━━━━━\u001b[0m\u001b[37m\u001b[0m \u001b[1m10s\u001b[0m 343us/step - accuracy: 0.9943 - loss: 0.0093 - val_accuracy: 0.9960 - val_loss: 0.0075\n",
      "Epoch 4/50\n",
      "\u001b[1m28499/28499\u001b[0m \u001b[32m━━━━━━━━━━━━━━━━━━━━\u001b[0m\u001b[37m\u001b[0m \u001b[1m10s\u001b[0m 339us/step - accuracy: 0.9949 - loss: 0.0079 - val_accuracy: 0.9965 - val_loss: 0.0043\n",
      "Epoch 5/50\n",
      "\u001b[1m28499/28499\u001b[0m \u001b[32m━━━━━━━━━━━━━━━━━━━━\u001b[0m\u001b[37m\u001b[0m \u001b[1m10s\u001b[0m 340us/step - accuracy: 0.9956 - loss: 0.0057 - val_accuracy: 0.9958 - val_loss: 0.0034\n",
      "Epoch 6/50\n",
      "\u001b[1m28499/28499\u001b[0m \u001b[32m━━━━━━━━━━━━━━━━━━━━\u001b[0m\u001b[37m\u001b[0m \u001b[1m10s\u001b[0m 338us/step - accuracy: 0.9961 - loss: 0.0047 - val_accuracy: 0.9964 - val_loss: 0.0029\n",
      "Epoch 7/50\n",
      "\u001b[1m28499/28499\u001b[0m \u001b[32m━━━━━━━━━━━━━━━━━━━━\u001b[0m\u001b[37m\u001b[0m \u001b[1m10s\u001b[0m 339us/step - accuracy: 0.9964 - loss: 0.0042 - val_accuracy: 0.9963 - val_loss: 0.0034\n",
      "Epoch 8/50\n",
      "\u001b[1m28499/28499\u001b[0m \u001b[32m━━━━━━━━━━━━━━━━━━━━\u001b[0m\u001b[37m\u001b[0m \u001b[1m10s\u001b[0m 340us/step - accuracy: 0.9964 - loss: 0.0040 - val_accuracy: 0.9965 - val_loss: 0.0024\n",
      "Epoch 9/50\n",
      "\u001b[1m28499/28499\u001b[0m \u001b[32m━━━━━━━━━━━━━━━━━━━━\u001b[0m\u001b[37m\u001b[0m \u001b[1m10s\u001b[0m 339us/step - accuracy: 0.9967 - loss: 0.0033 - val_accuracy: 0.9974 - val_loss: 0.0030\n",
      "Epoch 10/50\n",
      "\u001b[1m28499/28499\u001b[0m \u001b[32m━━━━━━━━━━━━━━━━━━━━\u001b[0m\u001b[37m\u001b[0m \u001b[1m10s\u001b[0m 343us/step - accuracy: 0.9967 - loss: 0.0028 - val_accuracy: 0.9971 - val_loss: 9.5377e-04\n",
      "Epoch 11/50\n",
      "\u001b[1m28499/28499\u001b[0m \u001b[32m━━━━━━━━━━━━━━━━━━━━\u001b[0m\u001b[37m\u001b[0m \u001b[1m10s\u001b[0m 340us/step - accuracy: 0.9973 - loss: 0.0018 - val_accuracy: 0.9918 - val_loss: 0.0060\n",
      "Epoch 12/50\n",
      "\u001b[1m28499/28499\u001b[0m \u001b[32m━━━━━━━━━━━━━━━━━━━━\u001b[0m\u001b[37m\u001b[0m \u001b[1m10s\u001b[0m 339us/step - accuracy: 0.9968 - loss: 0.0034 - val_accuracy: 0.9976 - val_loss: 3.0020e-04\n",
      "Epoch 13/50\n",
      "\u001b[1m28499/28499\u001b[0m \u001b[32m━━━━━━━━━━━━━━━━━━━━\u001b[0m\u001b[37m\u001b[0m \u001b[1m10s\u001b[0m 340us/step - accuracy: 0.9968 - loss: 0.0015 - val_accuracy: 0.9963 - val_loss: 0.0023\n",
      "Epoch 14/50\n",
      "\u001b[1m28499/28499\u001b[0m \u001b[32m━━━━━━━━━━━━━━━━━━━━\u001b[0m\u001b[37m\u001b[0m \u001b[1m10s\u001b[0m 339us/step - accuracy: 0.9967 - loss: 0.0016 - val_accuracy: 0.9946 - val_loss: 0.0135\n",
      "Epoch 15/50\n",
      "\u001b[1m28499/28499\u001b[0m \u001b[32m━━━━━━━━━━━━━━━━━━━━\u001b[0m\u001b[37m\u001b[0m \u001b[1m10s\u001b[0m 340us/step - accuracy: 0.9968 - loss: 0.0024 - val_accuracy: 0.9977 - val_loss: 0.0046\n",
      "Epoch 16/50\n",
      "\u001b[1m28499/28499\u001b[0m \u001b[32m━━━━━━━━━━━━━━━━━━━━\u001b[0m\u001b[37m\u001b[0m \u001b[1m10s\u001b[0m 339us/step - accuracy: 0.9976 - loss: 0.0025 - val_accuracy: 0.9981 - val_loss: 3.0358e-05\n",
      "Epoch 17/50\n",
      "\u001b[1m28499/28499\u001b[0m \u001b[32m━━━━━━━━━━━━━━━━━━━━\u001b[0m\u001b[37m\u001b[0m \u001b[1m10s\u001b[0m 335us/step - accuracy: 0.9971 - loss: 0.0016 - val_accuracy: 0.9966 - val_loss: 0.0037\n",
      "Epoch 18/50\n",
      "\u001b[1m28499/28499\u001b[0m \u001b[32m━━━━━━━━━━━━━━━━━━━━\u001b[0m\u001b[37m\u001b[0m \u001b[1m10s\u001b[0m 341us/step - accuracy: 0.9979 - loss: 0.0012 - val_accuracy: 0.9985 - val_loss: 9.0019e-05\n",
      "Epoch 19/50\n",
      "\u001b[1m28499/28499\u001b[0m \u001b[32m━━━━━━━━━━━━━━━━━━━━\u001b[0m\u001b[37m\u001b[0m \u001b[1m10s\u001b[0m 341us/step - accuracy: 0.9976 - loss: 0.0014 - val_accuracy: 0.9989 - val_loss: 3.4686e-05\n",
      "Epoch 20/50\n",
      "\u001b[1m28499/28499\u001b[0m \u001b[32m━━━━━━━━━━━━━━━━━━━━\u001b[0m\u001b[37m\u001b[0m \u001b[1m10s\u001b[0m 346us/step - accuracy: 0.9978 - loss: 0.0019 - val_accuracy: 0.9977 - val_loss: 1.6631e-05\n",
      "Epoch 21/50\n",
      "\u001b[1m28499/28499\u001b[0m \u001b[32m━━━━━━━━━━━━━━━━━━━━\u001b[0m\u001b[37m\u001b[0m \u001b[1m10s\u001b[0m 341us/step - accuracy: 0.9976 - loss: 0.0015 - val_accuracy: 0.9974 - val_loss: 1.7696e-04\n",
      "Epoch 22/50\n",
      "\u001b[1m28499/28499\u001b[0m \u001b[32m━━━━━━━━━━━━━━━━━━━━\u001b[0m\u001b[37m\u001b[0m \u001b[1m10s\u001b[0m 340us/step - accuracy: 0.9971 - loss: 0.0016 - val_accuracy: 0.9981 - val_loss: 4.5480e-04\n",
      "Epoch 23/50\n",
      "\u001b[1m28499/28499\u001b[0m \u001b[32m━━━━━━━━━━━━━━━━━━━━\u001b[0m\u001b[37m\u001b[0m \u001b[1m10s\u001b[0m 342us/step - accuracy: 0.9977 - loss: 0.0015 - val_accuracy: 0.9986 - val_loss: 8.8489e-04\n",
      "Epoch 24/50\n",
      "\u001b[1m28499/28499\u001b[0m \u001b[32m━━━━━━━━━━━━━━━━━━━━\u001b[0m\u001b[37m\u001b[0m \u001b[1m10s\u001b[0m 339us/step - accuracy: 0.9984 - loss: 0.0012 - val_accuracy: 0.9982 - val_loss: 3.1915e-05\n",
      "Epoch 25/50\n",
      "\u001b[1m28499/28499\u001b[0m \u001b[32m━━━━━━━━━━━━━━━━━━━━\u001b[0m\u001b[37m\u001b[0m \u001b[1m10s\u001b[0m 341us/step - accuracy: 0.9986 - loss: 9.9093e-04 - val_accuracy: 0.9981 - val_loss: 4.2321e-05\n",
      "Epoch 26/50\n",
      "\u001b[1m28499/28499\u001b[0m \u001b[32m━━━━━━━━━━━━━━━━━━━━\u001b[0m\u001b[37m\u001b[0m \u001b[1m10s\u001b[0m 343us/step - accuracy: 0.9980 - loss: 9.0760e-04 - val_accuracy: 0.9988 - val_loss: 3.0564e-05\n",
      "Epoch 27/50\n",
      "\u001b[1m28499/28499\u001b[0m \u001b[32m━━━━━━━━━━━━━━━━━━━━\u001b[0m\u001b[37m\u001b[0m \u001b[1m10s\u001b[0m 338us/step - accuracy: 0.9980 - loss: 0.0010 - val_accuracy: 0.9966 - val_loss: 0.0028\n",
      "Epoch 28/50\n",
      "\u001b[1m28499/28499\u001b[0m \u001b[32m━━━━━━━━━━━━━━━━━━━━\u001b[0m\u001b[37m\u001b[0m \u001b[1m10s\u001b[0m 339us/step - accuracy: 0.9981 - loss: 9.3302e-04 - val_accuracy: 0.9985 - val_loss: 5.0948e-05\n",
      "Epoch 29/50\n",
      "\u001b[1m28499/28499\u001b[0m \u001b[32m━━━━━━━━━━━━━━━━━━━━\u001b[0m\u001b[37m\u001b[0m \u001b[1m10s\u001b[0m 342us/step - accuracy: 0.9983 - loss: 8.9961e-04 - val_accuracy: 0.9974 - val_loss: 0.0028\n",
      "Epoch 30/50\n",
      "\u001b[1m28499/28499\u001b[0m \u001b[32m━━━━━━━━━━━━━━━━━━━━\u001b[0m\u001b[37m\u001b[0m \u001b[1m10s\u001b[0m 341us/step - accuracy: 0.9974 - loss: 8.8071e-04 - val_accuracy: 0.9973 - val_loss: 4.5294e-06\n",
      "Epoch 31/50\n",
      "\u001b[1m28499/28499\u001b[0m \u001b[32m━━━━━━━━━━━━━━━━━━━━\u001b[0m\u001b[37m\u001b[0m \u001b[1m10s\u001b[0m 341us/step - accuracy: 0.9968 - loss: 0.0012 - val_accuracy: 0.9971 - val_loss: 3.3459e-04\n",
      "Epoch 32/50\n",
      "\u001b[1m28499/28499\u001b[0m \u001b[32m━━━━━━━━━━━━━━━━━━━━\u001b[0m\u001b[37m\u001b[0m \u001b[1m10s\u001b[0m 342us/step - accuracy: 0.9970 - loss: 7.0130e-04 - val_accuracy: 0.9987 - val_loss: 3.2140e-04\n",
      "Epoch 33/50\n",
      "\u001b[1m28499/28499\u001b[0m \u001b[32m━━━━━━━━━━━━━━━━━━━━\u001b[0m\u001b[37m\u001b[0m \u001b[1m10s\u001b[0m 342us/step - accuracy: 0.9978 - loss: 6.9248e-04 - val_accuracy: 0.9977 - val_loss: 2.8201e-04\n",
      "Epoch 34/50\n",
      "\u001b[1m28499/28499\u001b[0m \u001b[32m━━━━━━━━━━━━━━━━━━━━\u001b[0m\u001b[37m\u001b[0m \u001b[1m10s\u001b[0m 342us/step - accuracy: 0.9974 - loss: 7.1990e-04 - val_accuracy: 0.9973 - val_loss: 7.0047e-06\n",
      "Epoch 35/50\n",
      "\u001b[1m28499/28499\u001b[0m \u001b[32m━━━━━━━━━━━━━━━━━━━━\u001b[0m\u001b[37m\u001b[0m \u001b[1m10s\u001b[0m 339us/step - accuracy: 0.9972 - loss: 5.0583e-04 - val_accuracy: 0.9981 - val_loss: 4.9853e-05\n",
      "Epoch 36/50\n",
      "\u001b[1m28499/28499\u001b[0m \u001b[32m━━━━━━━━━━━━━━━━━━━━\u001b[0m\u001b[37m\u001b[0m \u001b[1m10s\u001b[0m 339us/step - accuracy: 0.9982 - loss: 2.3937e-04 - val_accuracy: 0.9992 - val_loss: 4.9504e-07\n",
      "Epoch 37/50\n",
      "\u001b[1m28499/28499\u001b[0m \u001b[32m━━━━━━━━━━━━━━━━━━━━\u001b[0m\u001b[37m\u001b[0m \u001b[1m10s\u001b[0m 342us/step - accuracy: 0.9985 - loss: 0.0015 - val_accuracy: 0.9972 - val_loss: 2.5439e-05\n",
      "Epoch 38/50\n",
      "\u001b[1m28499/28499\u001b[0m \u001b[32m━━━━━━━━━━━━━━━━━━━━\u001b[0m\u001b[37m\u001b[0m \u001b[1m10s\u001b[0m 340us/step - accuracy: 0.9973 - loss: 3.9139e-04 - val_accuracy: 0.9982 - val_loss: 1.7604e-06\n",
      "Epoch 39/50\n",
      "\u001b[1m28499/28499\u001b[0m \u001b[32m━━━━━━━━━━━━━━━━━━━━\u001b[0m\u001b[37m\u001b[0m \u001b[1m10s\u001b[0m 341us/step - accuracy: 0.9980 - loss: 0.0013 - val_accuracy: 0.9980 - val_loss: 8.8512e-06\n",
      "Epoch 40/50\n",
      "\u001b[1m28499/28499\u001b[0m \u001b[32m━━━━━━━━━━━━━━━━━━━━\u001b[0m\u001b[37m\u001b[0m \u001b[1m10s\u001b[0m 339us/step - accuracy: 0.9977 - loss: 6.0437e-04 - val_accuracy: 0.9991 - val_loss: 8.6684e-05\n",
      "Epoch 41/50\n",
      "\u001b[1m28499/28499\u001b[0m \u001b[32m━━━━━━━━━━━━━━━━━━━━\u001b[0m\u001b[37m\u001b[0m \u001b[1m10s\u001b[0m 342us/step - accuracy: 0.9990 - loss: 2.1175e-04 - val_accuracy: 0.9981 - val_loss: 1.5438e-05\n",
      "Epoch 42/50\n",
      "\u001b[1m28499/28499\u001b[0m \u001b[32m━━━━━━━━━━━━━━━━━━━━\u001b[0m\u001b[37m\u001b[0m \u001b[1m10s\u001b[0m 341us/step - accuracy: 0.9976 - loss: 4.8590e-04 - val_accuracy: 0.9978 - val_loss: 9.4135e-05\n",
      "Epoch 43/50\n",
      "\u001b[1m28499/28499\u001b[0m \u001b[32m━━━━━━━━━━━━━━━━━━━━\u001b[0m\u001b[37m\u001b[0m \u001b[1m10s\u001b[0m 341us/step - accuracy: 0.9982 - loss: 6.3545e-04 - val_accuracy: 0.9990 - val_loss: 3.8931e-07\n",
      "Epoch 44/50\n",
      "\u001b[1m28499/28499\u001b[0m \u001b[32m━━━━━━━━━━━━━━━━━━━━\u001b[0m\u001b[37m\u001b[0m \u001b[1m10s\u001b[0m 341us/step - accuracy: 0.9983 - loss: 6.8367e-04 - val_accuracy: 0.9983 - val_loss: 4.1609e-07\n",
      "Epoch 45/50\n",
      "\u001b[1m28499/28499\u001b[0m \u001b[32m━━━━━━━━━━━━━━━━━━━━\u001b[0m\u001b[37m\u001b[0m \u001b[1m10s\u001b[0m 341us/step - accuracy: 0.9983 - loss: 6.8218e-04 - val_accuracy: 0.9977 - val_loss: 4.4465e-05\n",
      "Epoch 46/50\n",
      "\u001b[1m28499/28499\u001b[0m \u001b[32m━━━━━━━━━━━━━━━━━━━━\u001b[0m\u001b[37m\u001b[0m \u001b[1m10s\u001b[0m 340us/step - accuracy: 0.9979 - loss: 3.6583e-04 - val_accuracy: 0.9987 - val_loss: 5.5294e-07\n",
      "Epoch 47/50\n",
      "\u001b[1m28499/28499\u001b[0m \u001b[32m━━━━━━━━━━━━━━━━━━━━\u001b[0m\u001b[37m\u001b[0m \u001b[1m10s\u001b[0m 341us/step - accuracy: 0.9982 - loss: 0.0011 - val_accuracy: 0.9973 - val_loss: 9.1392e-06\n",
      "Epoch 48/50\n",
      "\u001b[1m28499/28499\u001b[0m \u001b[32m━━━━━━━━━━━━━━━━━━━━\u001b[0m\u001b[37m\u001b[0m \u001b[1m10s\u001b[0m 340us/step - accuracy: 0.9983 - loss: 5.3766e-04 - val_accuracy: 0.9981 - val_loss: 1.2495e-06\n",
      "Epoch 49/50\n",
      "\u001b[1m28499/28499\u001b[0m \u001b[32m━━━━━━━━━━━━━━━━━━━━\u001b[0m\u001b[37m\u001b[0m \u001b[1m10s\u001b[0m 343us/step - accuracy: 0.9982 - loss: 0.0012 - val_accuracy: 0.9986 - val_loss: 2.5050e-07\n",
      "Epoch 50/50\n",
      "\u001b[1m28499/28499\u001b[0m \u001b[32m━━━━━━━━━━━━━━━━━━━━\u001b[0m\u001b[37m\u001b[0m \u001b[1m10s\u001b[0m 339us/step - accuracy: 0.9979 - loss: 6.0936e-04 - val_accuracy: 0.9974 - val_loss: 3.7680e-07\n"
     ]
    }
   ],
   "source": [
    "# Neural network architecture\n",
    "model = Sequential()\n",
    "model.add(Dense(64, input_dim=X_train_scaled.shape[1], activation='relu'))  # First hidden layer\n",
    "model.add(Dense(32, activation='relu'))  # Second hidden layer\n",
    "model.add(Dense(y_train.shape[1], activation='sigmoid'))  # Output layer\n",
    "\n",
    "# Compile Model\n",
    "model.compile(loss='binary_crossentropy', optimizer='adam', metrics=['accuracy'])\n",
    "\n",
    "# Train the model\n",
    "history = model.fit(X_train_scaled, y_train, epochs=50, batch_size=10, validation_split=0.2)\n"
   ]
  },
  {
   "cell_type": "markdown",
   "metadata": {},
   "source": [
    "### Model Evaluation"
   ]
  },
  {
   "cell_type": "code",
   "execution_count": 11,
   "metadata": {},
   "outputs": [
    {
     "name": "stdout",
     "output_type": "stream",
     "text": [
      "\u001b[1m2784/2784\u001b[0m \u001b[32m━━━━━━━━━━━━━━━━━━━━\u001b[0m\u001b[37m\u001b[0m \u001b[1m1s\u001b[0m 218us/step\n",
      "\u001b[1m2784/2784\u001b[0m \u001b[32m━━━━━━━━━━━━━━━━━━━━\u001b[0m\u001b[37m\u001b[0m \u001b[1m1s\u001b[0m 208us/step - accuracy: 0.9971 - loss: 3.8488e-07\n",
      "Model Accuracy: 0.9972\n",
      "Precision: 1.0000, Recall: 1.0000, F1-Score: 1.0000\n",
      "[[[74624     0]\n",
      "  [    0 14434]]\n",
      "\n",
      " [[59529     0]\n",
      "  [    0 29529]]\n",
      "\n",
      " [[77757     0]\n",
      "  [    0 11301]]\n",
      "\n",
      " [[40830     0]\n",
      "  [    0 48228]]]\n"
     ]
    }
   ],
   "source": [
    "\n",
    "from sklearn.metrics import precision_score, recall_score, f1_score\n",
    "from sklearn.metrics import multilabel_confusion_matrix\n",
    "\n",
    "# Predictions\n",
    "y_pred = (model.predict(X_test_scaled) > 0.5).astype(int)\n",
    "\n",
    "# Calculate metrics\n",
    "precision = precision_score(y_test, y_pred, average='macro')\n",
    "recall = recall_score(y_test, y_pred, average='macro')\n",
    "f1 = f1_score(y_test, y_pred, average='macro')\n",
    "\n",
    "# Evaluate Model\n",
    "loss, accuracy = model.evaluate(X_test_scaled, y_test)\n",
    "print(f'Model Accuracy: {accuracy:.4f}')\n",
    "print(f'Precision: {precision:.4f}, Recall: {recall:.4f}, F1-Score: {f1:.4f}')\n",
    "\n",
    "# Multilabel confusion matrix\n",
    "conf_matrix = multilabel_confusion_matrix(y_test, y_pred)\n",
    "print(conf_matrix)\n",
    "\n"
   ]
  },
  {
   "cell_type": "markdown",
   "metadata": {},
   "source": [
    "### Loss Curve\n",
    "Plotting the train and validation loss over epochs"
   ]
  },
  {
   "cell_type": "code",
   "execution_count": 12,
   "metadata": {},
   "outputs": [
    {
     "data": {
      "image/png": "[encoded data removed]",
      "text/plain": [
       "<Figure size 432x288 with 1 Axes>"
      ]
     },
     "metadata": {
      "needs_background": "light"
     },
     "output_type": "display_data"
    }
   ],
   "source": [
    "import matplotlib.pyplot as plt\n",
    "\n",
    "plt.plot(history.history['loss'], label='train')\n",
    "plt.plot(history.history['val_loss'], label='validation')\n",
    "plt.title('Loss Curve')\n",
    "plt.ylabel('loss')\n",
    "plt.xlabel('epoch')\n",
    "plt.legend()\n",
    "plt.show()\n"
   ]
  },
  {
   "cell_type": "markdown",
   "metadata": {},
   "source": [
    "## Neural Network - Single Label"
   ]
  },
  {
   "cell_type": "code",
   "execution_count": 14,
   "metadata": {},
   "outputs": [],
   "source": [
    "import pandas as pd\n",
    "from sklearn.model_selection import train_test_split\n",
    "from sklearn.preprocessing import StandardScaler\n",
    "from keras.utils import to_categorical\n",
    "\n",
    "# Feature and Target Setup\n",
    "features = df.drop('Offense_Rank', axis=1)\n",
    "target = df['Offense_Rank']\n",
    "\n",
    "# Convert target to categorical (one-hot encoding) if it's not ordinal\n",
    "target_encoded = to_categorical(target)\n",
    "\n",
    "# Splitting dataset\n",
    "X_train, X_test, y_train, y_test = train_test_split(features, target_encoded, test_size=0.2, random_state=42)\n",
    "\n",
    "# Scaling features\n",
    "scaler = StandardScaler()\n",
    "X_train_scaled = scaler.fit_transform(X_train)\n",
    "X_test_scaled = scaler.transform(X_test)\n"
   ]
  },
  {
   "cell_type": "markdown",
   "metadata": {},
   "source": [
    "### Compile and Train Model"
   ]
  },
  {
   "cell_type": "code",
   "execution_count": 15,
   "metadata": {},
   "outputs": [
    {
     "name": "stdout",
     "output_type": "stream",
     "text": [
      "Epoch 1/50\n"
     ]
    },
    {
     "name": "stderr",
     "output_type": "stream",
     "text": [
      "/Users/lindseysullivan/miniconda3/lib/python3.9/site-packages/keras/src/layers/core/dense.py:88: UserWarning: Do not pass an `input_shape`/`input_dim` argument to a layer. When using Sequential models, prefer using an `Input(shape)` object as the first layer in the model instead.\n",
      "  super().__init__(activity_regularizer=activity_regularizer, **kwargs)\n"
     ]
    },
    {
     "name": "stdout",
     "output_type": "stream",
     "text": [
      "\u001b[1m8906/8906\u001b[0m \u001b[32m━━━━━━━━━━━━━━━━━━━━\u001b[0m\u001b[37m\u001b[0m \u001b[1m4s\u001b[0m 398us/step - accuracy: 0.4990 - loss: 1.3261 - val_accuracy: 0.5339 - val_loss: 1.2088\n",
      "Epoch 2/50\n",
      "\u001b[1m8906/8906\u001b[0m \u001b[32m━━━━━━━━━━━━━━━━━━━━\u001b[0m\u001b[37m\u001b[0m \u001b[1m3s\u001b[0m 378us/step - accuracy: 0.5333 - loss: 1.2049 - val_accuracy: 0.5445 - val_loss: 1.1889\n",
      "Epoch 3/50\n",
      "\u001b[1m8906/8906\u001b[0m \u001b[32m━━━━━━━━━━━━━━━━━━━━\u001b[0m\u001b[37m\u001b[0m \u001b[1m3s\u001b[0m 386us/step - accuracy: 0.5441 - loss: 1.1821 - val_accuracy: 0.5469 - val_loss: 1.1786\n",
      "Epoch 4/50\n",
      "\u001b[1m8906/8906\u001b[0m \u001b[32m━━━━━━━━━━━━━━━━━━━━\u001b[0m\u001b[37m\u001b[0m \u001b[1m3s\u001b[0m 385us/step - accuracy: 0.5470 - loss: 1.1746 - val_accuracy: 0.5477 - val_loss: 1.1780\n",
      "Epoch 5/50\n",
      "\u001b[1m8906/8906\u001b[0m \u001b[32m━━━━━━━━━━━━━━━━━━━━\u001b[0m\u001b[37m\u001b[0m \u001b[1m3s\u001b[0m 377us/step - accuracy: 0.5487 - loss: 1.1681 - val_accuracy: 0.5497 - val_loss: 1.1704\n",
      "Epoch 6/50\n",
      "\u001b[1m8906/8906\u001b[0m \u001b[32m━━━━━━━━━━━━━━━━━━━━\u001b[0m\u001b[37m\u001b[0m \u001b[1m3s\u001b[0m 387us/step - accuracy: 0.5481 - loss: 1.1719 - val_accuracy: 0.5493 - val_loss: 1.1723\n",
      "Epoch 7/50\n",
      "\u001b[1m8906/8906\u001b[0m \u001b[32m━━━━━━━━━━━━━━━━━━━━\u001b[0m\u001b[37m\u001b[0m \u001b[1m3s\u001b[0m 379us/step - accuracy: 0.5509 - loss: 1.1634 - val_accuracy: 0.5509 - val_loss: 1.1721\n",
      "Epoch 8/50\n",
      "\u001b[1m8906/8906\u001b[0m \u001b[32m━━━━━━━━━━━━━━━━━━━━\u001b[0m\u001b[37m\u001b[0m \u001b[1m3s\u001b[0m 387us/step - accuracy: 0.5522 - loss: 1.1613 - val_accuracy: 0.5530 - val_loss: 1.1668\n",
      "Epoch 9/50\n",
      "\u001b[1m8906/8906\u001b[0m \u001b[32m━━━━━━━━━━━━━━━━━━━━\u001b[0m\u001b[37m\u001b[0m \u001b[1m3s\u001b[0m 381us/step - accuracy: 0.5524 - loss: 1.1572 - val_accuracy: 0.5520 - val_loss: 1.1672\n",
      "Epoch 10/50\n",
      "\u001b[1m8906/8906\u001b[0m \u001b[32m━━━━━━━━━━━━━━━━━━━━\u001b[0m\u001b[37m\u001b[0m \u001b[1m3s\u001b[0m 387us/step - accuracy: 0.5517 - loss: 1.1575 - val_accuracy: 0.5499 - val_loss: 1.1694\n",
      "Epoch 11/50\n",
      "\u001b[1m8906/8906\u001b[0m \u001b[32m━━━━━━━━━━━━━━━━━━━━\u001b[0m\u001b[37m\u001b[0m \u001b[1m3s\u001b[0m 388us/step - accuracy: 0.5522 - loss: 1.1567 - val_accuracy: 0.5528 - val_loss: 1.1669\n",
      "Epoch 12/50\n",
      "\u001b[1m8906/8906\u001b[0m \u001b[32m━━━━━━━━━━━━━━━━━━━━\u001b[0m\u001b[37m\u001b[0m \u001b[1m3s\u001b[0m 382us/step - accuracy: 0.5515 - loss: 1.1562 - val_accuracy: 0.5537 - val_loss: 1.1637\n",
      "Epoch 13/50\n",
      "\u001b[1m8906/8906\u001b[0m \u001b[32m━━━━━━━━━━━━━━━━━━━━\u001b[0m\u001b[37m\u001b[0m \u001b[1m3s\u001b[0m 390us/step - accuracy: 0.5539 - loss: 1.1518 - val_accuracy: 0.5530 - val_loss: 1.1648\n",
      "Epoch 14/50\n",
      "\u001b[1m8906/8906\u001b[0m \u001b[32m━━━━━━━━━━━━━━━━━━━━\u001b[0m\u001b[37m\u001b[0m \u001b[1m3s\u001b[0m 382us/step - accuracy: 0.5554 - loss: 1.1517 - val_accuracy: 0.5531 - val_loss: 1.1647\n",
      "Epoch 15/50\n",
      "\u001b[1m8906/8906\u001b[0m \u001b[32m━━━━━━━━━━━━━━━━━━━━\u001b[0m\u001b[37m\u001b[0m \u001b[1m3s\u001b[0m 390us/step - accuracy: 0.5557 - loss: 1.1476 - val_accuracy: 0.5541 - val_loss: 1.1637\n",
      "Epoch 16/50\n",
      "\u001b[1m8906/8906\u001b[0m \u001b[32m━━━━━━━━━━━━━━━━━━━━\u001b[0m\u001b[37m\u001b[0m \u001b[1m3s\u001b[0m 391us/step - accuracy: 0.5541 - loss: 1.1458 - val_accuracy: 0.5544 - val_loss: 1.1649\n",
      "Epoch 17/50\n",
      "\u001b[1m8906/8906\u001b[0m \u001b[32m━━━━━━━━━━━━━━━━━━━━\u001b[0m\u001b[37m\u001b[0m \u001b[1m3s\u001b[0m 382us/step - accuracy: 0.5527 - loss: 1.1509 - val_accuracy: 0.5529 - val_loss: 1.1690\n",
      "Epoch 18/50\n",
      "\u001b[1m8906/8906\u001b[0m \u001b[32m━━━━━━━━━━━━━━━━━━━━\u001b[0m\u001b[37m\u001b[0m \u001b[1m3s\u001b[0m 391us/step - accuracy: 0.5547 - loss: 1.1471 - val_accuracy: 0.5524 - val_loss: 1.1650\n",
      "Epoch 19/50\n",
      "\u001b[1m8906/8906\u001b[0m \u001b[32m━━━━━━━━━━━━━━━━━━━━\u001b[0m\u001b[37m\u001b[0m \u001b[1m3s\u001b[0m 386us/step - accuracy: 0.5553 - loss: 1.1423 - val_accuracy: 0.5508 - val_loss: 1.1667\n",
      "Epoch 20/50\n",
      "\u001b[1m8906/8906\u001b[0m \u001b[32m━━━━━━━━━━━━━━━━━━━━\u001b[0m\u001b[37m\u001b[0m \u001b[1m3s\u001b[0m 391us/step - accuracy: 0.5541 - loss: 1.1476 - val_accuracy: 0.5546 - val_loss: 1.1643\n",
      "Epoch 21/50\n",
      "\u001b[1m8906/8906\u001b[0m \u001b[32m━━━━━━━━━━━━━━━━━━━━\u001b[0m\u001b[37m\u001b[0m \u001b[1m4s\u001b[0m 393us/step - accuracy: 0.5571 - loss: 1.1405 - val_accuracy: 0.5535 - val_loss: 1.1651\n",
      "Epoch 22/50\n",
      "\u001b[1m8906/8906\u001b[0m \u001b[32m━━━━━━━━━━━━━━━━━━━━\u001b[0m\u001b[37m\u001b[0m \u001b[1m3s\u001b[0m 385us/step - accuracy: 0.5572 - loss: 1.1422 - val_accuracy: 0.5536 - val_loss: 1.1649\n",
      "Epoch 23/50\n",
      "\u001b[1m8906/8906\u001b[0m \u001b[32m━━━━━━━━━━━━━━━━━━━━\u001b[0m\u001b[37m\u001b[0m \u001b[1m4s\u001b[0m 392us/step - accuracy: 0.5556 - loss: 1.1426 - val_accuracy: 0.5541 - val_loss: 1.1667\n",
      "Epoch 24/50\n",
      "\u001b[1m8906/8906\u001b[0m \u001b[32m━━━━━━━━━━━━━━━━━━━━\u001b[0m\u001b[37m\u001b[0m \u001b[1m3s\u001b[0m 388us/step - accuracy: 0.5557 - loss: 1.1438 - val_accuracy: 0.5529 - val_loss: 1.1657\n",
      "Epoch 25/50\n",
      "\u001b[1m8906/8906\u001b[0m \u001b[32m━━━━━━━━━━━━━━━━━━━━\u001b[0m\u001b[37m\u001b[0m \u001b[1m4s\u001b[0m 392us/step - accuracy: 0.5564 - loss: 1.1374 - val_accuracy: 0.5523 - val_loss: 1.1678\n",
      "Epoch 26/50\n",
      "\u001b[1m8906/8906\u001b[0m \u001b[32m━━━━━━━━━━━━━━━━━━━━\u001b[0m\u001b[37m\u001b[0m \u001b[1m3s\u001b[0m 390us/step - accuracy: 0.5570 - loss: 1.1393 - val_accuracy: 0.5495 - val_loss: 1.1679\n",
      "Epoch 27/50\n",
      "\u001b[1m8906/8906\u001b[0m \u001b[32m━━━━━━━━━━━━━━━━━━━━\u001b[0m\u001b[37m\u001b[0m \u001b[1m3s\u001b[0m 384us/step - accuracy: 0.5572 - loss: 1.1424 - val_accuracy: 0.5521 - val_loss: 1.1671\n",
      "Epoch 28/50\n",
      "\u001b[1m8906/8906\u001b[0m \u001b[32m━━━━━━━━━━━━━━━━━━━━\u001b[0m\u001b[37m\u001b[0m \u001b[1m4s\u001b[0m 392us/step - accuracy: 0.5578 - loss: 1.1366 - val_accuracy: 0.5533 - val_loss: 1.1677\n",
      "Epoch 29/50\n",
      "\u001b[1m8906/8906\u001b[0m \u001b[32m━━━━━━━━━━━━━━━━━━━━\u001b[0m\u001b[37m\u001b[0m \u001b[1m4s\u001b[0m 392us/step - accuracy: 0.5584 - loss: 1.1373 - val_accuracy: 0.5509 - val_loss: 1.1693\n",
      "Epoch 30/50\n",
      "\u001b[1m8906/8906\u001b[0m \u001b[32m━━━━━━━━━━━━━━━━━━━━\u001b[0m\u001b[37m\u001b[0m \u001b[1m4s\u001b[0m 404us/step - accuracy: 0.5572 - loss: 1.1373 - val_accuracy: 0.5531 - val_loss: 1.1675\n",
      "Epoch 31/50\n",
      "\u001b[1m8906/8906\u001b[0m \u001b[32m━━━━━━━━━━━━━━━━━━━━\u001b[0m\u001b[37m\u001b[0m \u001b[1m3s\u001b[0m 384us/step - accuracy: 0.5584 - loss: 1.1363 - val_accuracy: 0.5531 - val_loss: 1.1665\n",
      "Epoch 32/50\n",
      "\u001b[1m8906/8906\u001b[0m \u001b[32m━━━━━━━━━━━━━━━━━━━━\u001b[0m\u001b[37m\u001b[0m \u001b[1m4s\u001b[0m 392us/step - accuracy: 0.5585 - loss: 1.1358 - val_accuracy: 0.5517 - val_loss: 1.1714\n",
      "Epoch 33/50\n",
      "\u001b[1m8906/8906\u001b[0m \u001b[32m━━━━━━━━━━━━━━━━━━━━\u001b[0m\u001b[37m\u001b[0m \u001b[1m3s\u001b[0m 390us/step - accuracy: 0.5584 - loss: 1.1360 - val_accuracy: 0.5536 - val_loss: 1.1687\n",
      "Epoch 34/50\n",
      "\u001b[1m8906/8906\u001b[0m \u001b[32m━━━━━━━━━━━━━━━━━━━━\u001b[0m\u001b[37m\u001b[0m \u001b[1m3s\u001b[0m 383us/step - accuracy: 0.5600 - loss: 1.1353 - val_accuracy: 0.5529 - val_loss: 1.1691\n",
      "Epoch 35/50\n",
      "\u001b[1m8906/8906\u001b[0m \u001b[32m━━━━━━━━━━━━━━━━━━━━\u001b[0m\u001b[37m\u001b[0m \u001b[1m4s\u001b[0m 394us/step - accuracy: 0.5595 - loss: 1.1329 - val_accuracy: 0.5510 - val_loss: 1.1685\n",
      "Epoch 36/50\n",
      "\u001b[1m8906/8906\u001b[0m \u001b[32m━━━━━━━━━━━━━━━━━━━━\u001b[0m\u001b[37m\u001b[0m \u001b[1m3s\u001b[0m 390us/step - accuracy: 0.5599 - loss: 1.1311 - val_accuracy: 0.5520 - val_loss: 1.1731\n",
      "Epoch 37/50\n",
      "\u001b[1m8906/8906\u001b[0m \u001b[32m━━━━━━━━━━━━━━━━━━━━\u001b[0m\u001b[37m\u001b[0m \u001b[1m3s\u001b[0m 383us/step - accuracy: 0.5587 - loss: 1.1348 - val_accuracy: 0.5544 - val_loss: 1.1707\n",
      "Epoch 38/50\n",
      "\u001b[1m8906/8906\u001b[0m \u001b[32m━━━━━━━━━━━━━━━━━━━━\u001b[0m\u001b[37m\u001b[0m \u001b[1m3s\u001b[0m 390us/step - accuracy: 0.5600 - loss: 1.1325 - val_accuracy: 0.5493 - val_loss: 1.1731\n",
      "Epoch 39/50\n",
      "\u001b[1m8906/8906\u001b[0m \u001b[32m━━━━━━━━━━━━━━━━━━━━\u001b[0m\u001b[37m\u001b[0m \u001b[1m3s\u001b[0m 390us/step - accuracy: 0.5606 - loss: 1.1311 - val_accuracy: 0.5526 - val_loss: 1.1706\n",
      "Epoch 40/50\n",
      "\u001b[1m8906/8906\u001b[0m \u001b[32m━━━━━━━━━━━━━━━━━━━━\u001b[0m\u001b[37m\u001b[0m \u001b[1m3s\u001b[0m 383us/step - accuracy: 0.5604 - loss: 1.1302 - val_accuracy: 0.5522 - val_loss: 1.1706\n",
      "Epoch 41/50\n",
      "\u001b[1m8906/8906\u001b[0m \u001b[32m━━━━━━━━━━━━━━━━━━━━\u001b[0m\u001b[37m\u001b[0m \u001b[1m3s\u001b[0m 391us/step - accuracy: 0.5597 - loss: 1.1317 - val_accuracy: 0.5505 - val_loss: 1.1748\n",
      "Epoch 42/50\n",
      "\u001b[1m8906/8906\u001b[0m \u001b[32m━━━━━━━━━━━━━━━━━━━━\u001b[0m\u001b[37m\u001b[0m \u001b[1m3s\u001b[0m 390us/step - accuracy: 0.5606 - loss: 1.1313 - val_accuracy: 0.5511 - val_loss: 1.1736\n",
      "Epoch 43/50\n",
      "\u001b[1m8906/8906\u001b[0m \u001b[32m━━━━━━━━━━━━━━━━━━━━\u001b[0m\u001b[37m\u001b[0m \u001b[1m3s\u001b[0m 384us/step - accuracy: 0.5584 - loss: 1.1347 - val_accuracy: 0.5529 - val_loss: 1.1750\n",
      "Epoch 44/50\n",
      "\u001b[1m8906/8906\u001b[0m \u001b[32m━━━━━━━━━━━━━━━━━━━━\u001b[0m\u001b[37m\u001b[0m \u001b[1m3s\u001b[0m 390us/step - accuracy: 0.5588 - loss: 1.1346 - val_accuracy: 0.5527 - val_loss: 1.1722\n",
      "Epoch 45/50\n",
      "\u001b[1m8906/8906\u001b[0m \u001b[32m━━━━━━━━━━━━━━━━━━━━\u001b[0m\u001b[37m\u001b[0m \u001b[1m4s\u001b[0m 392us/step - accuracy: 0.5599 - loss: 1.1343 - val_accuracy: 0.5533 - val_loss: 1.1709\n",
      "Epoch 46/50\n",
      "\u001b[1m8906/8906\u001b[0m \u001b[32m━━━━━━━━━━━━━━━━━━━━\u001b[0m\u001b[37m\u001b[0m \u001b[1m3s\u001b[0m 384us/step - accuracy: 0.5592 - loss: 1.1330 - val_accuracy: 0.5506 - val_loss: 1.1798\n",
      "Epoch 47/50\n",
      "\u001b[1m8906/8906\u001b[0m \u001b[32m━━━━━━━━━━━━━━━━━━━━\u001b[0m\u001b[37m\u001b[0m \u001b[1m3s\u001b[0m 391us/step - accuracy: 0.5592 - loss: 1.1328 - val_accuracy: 0.5515 - val_loss: 1.1757\n",
      "Epoch 48/50\n",
      "\u001b[1m8906/8906\u001b[0m \u001b[32m━━━━━━━━━━━━━━━━━━━━\u001b[0m\u001b[37m\u001b[0m \u001b[1m3s\u001b[0m 389us/step - accuracy: 0.5590 - loss: 1.1335 - val_accuracy: 0.5532 - val_loss: 1.1735\n",
      "Epoch 49/50\n",
      "\u001b[1m8906/8906\u001b[0m \u001b[32m━━━━━━━━━━━━━━━━━━━━\u001b[0m\u001b[37m\u001b[0m \u001b[1m3s\u001b[0m 384us/step - accuracy: 0.5586 - loss: 1.1321 - val_accuracy: 0.5497 - val_loss: 1.1798\n",
      "Epoch 50/50\n",
      "\u001b[1m8906/8906\u001b[0m \u001b[32m━━━━━━━━━━━━━━━━━━━━\u001b[0m\u001b[37m\u001b[0m \u001b[1m4s\u001b[0m 393us/step - accuracy: 0.5599 - loss: 1.1318 - val_accuracy: 0.5524 - val_loss: 1.1765\n"
     ]
    }
   ],
   "source": [
    "from keras.models import Sequential\n",
    "from keras.layers import Dense\n",
    "\n",
    "model = Sequential()\n",
    "model.add(Dense(128, input_dim=X_train_scaled.shape[1], activation='relu'))  # First hidden layer\n",
    "model.add(Dense(64, activation='relu'))  # Second hidden layer\n",
    "model.add(Dense(y_train.shape[1], activation='softmax'))  # Output layer, 'softmax' for multi-class classification\n",
    "\n",
    "# Compile\n",
    "model.compile(loss='categorical_crossentropy', optimizer='adam', metrics=['accuracy'])\n",
    "\n",
    "# Train Model\n",
    "history = model.fit(X_train_scaled, y_train, epochs=50, batch_size=32, validation_split=0.2)\n"
   ]
  },
  {
   "cell_type": "markdown",
   "metadata": {},
   "source": [
    "### Evaluate Model"
   ]
  },
  {
   "cell_type": "code",
   "execution_count": 24,
   "metadata": {},
   "outputs": [
    {
     "name": "stdout",
     "output_type": "stream",
     "text": [
      "\u001b[1m2784/2784\u001b[0m \u001b[32m━━━━━━━━━━━━━━━━━━━━\u001b[0m\u001b[37m\u001b[0m \u001b[1m1s\u001b[0m 234us/step - accuracy: 0.5555 - loss: 1.1772\n",
      "Model accuracy: 0.5542\n"
     ]
    }
   ],
   "source": [
    "# Evaluate Model\n",
    "loss, accuracy = model.evaluate(X_test_scaled, y_test)\n",
    "print(f'Model accuracy: {accuracy:.4f}')\n",
    "\n"
   ]
  },
  {
   "cell_type": "markdown",
   "metadata": {},
   "source": [
    "### Loss Curve"
   ]
  },
  {
   "cell_type": "code",
   "execution_count": 18,
   "metadata": {},
   "outputs": [
    {
     "data": {
      "image/png": "[encoded data removed]",
      "text/plain": [
       "<Figure size 432x288 with 1 Axes>"
      ]
     },
     "metadata": {
      "needs_background": "light"
     },
     "output_type": "display_data"
    }
   ],
   "source": [
    "import matplotlib.pyplot as plt\n",
    "\n",
    "plt.plot(history.history['loss'], label='train')\n",
    "plt.plot(history.history['val_loss'], label='validation')\n",
    "plt.title('Loss Curve')\n",
    "plt.ylabel('loss')\n",
    "plt.xlabel('epoch')\n",
    "plt.legend()\n",
    "plt.show()\n"
   ]
  }
 ],
 "metadata": {
  "kernelspec": {
   "display_name": "base",
   "language": "python",
   "name": "python3"
  },
  "language_info": {
   "codemirror_mode": {
    "name": "ipython",
    "version": 3
   },
   "file_extension": ".py",
   "mimetype": "text/x-python",
   "name": "python",
   "nbconvert_exporter": "python",
   "pygments_lexer": "ipython3",
   "version": "3.9.12"
  }
 },
 "nbformat": 4,
 "nbformat_minor": 2
}
