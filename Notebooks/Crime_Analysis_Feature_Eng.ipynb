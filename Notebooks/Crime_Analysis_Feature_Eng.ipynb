{
 "cells": [
  {
   "cell_type": "markdown",
   "metadata": {},
   "source": [
    "## Libraries for Modeling"
   ]
  },
  {
   "cell_type": "code",
   "execution_count": 25,
   "metadata": {},
   "outputs": [],
   "source": [
    "# Libraries\n",
    "import pandas as pd\n",
    "import numpy as np\n",
    "from datetime import datetime, time"
   ]
  },
  {
   "cell_type": "markdown",
   "metadata": {},
   "source": [
    "## Read CSV File"
   ]
  },
  {
   "cell_type": "code",
   "execution_count": null,
   "metadata": {},
   "outputs": [],
   "source": [
    "csv_file_path = '/Documents/School/Kansas-City-Crime-Analysis/Data/Data_Sets/KCPD-5-Year-Analysis-Feature-Eng.CSV'\n",
    "df = pd.read_csv(csv_file_path)\n",
    "print(df.info())"
   ]
  },
  {
   "cell_type": "code",
   "execution_count": 27,
   "metadata": {},
   "outputs": [
    {
     "name": "stdout",
     "output_type": "stream",
     "text": [
      "    Report_No  Year  Quarter  Month Day_of_Week From_Date From_Time  \\\n",
      "0  KC19020397  2019        1  March   Wednesday   3/20/19  09:00:00   \n",
      "1  KC19025235  2019        2  April      Sunday    4/7/19  15:45:00   \n",
      "2  KC19036511  2019        2    May    Thursday   5/16/19  20:30:00   \n",
      "3  KC19024315  2019        2  April   Wednesday    4/3/19  21:30:00   \n",
      "4  KC19035992  2019        2    May    Thursday   5/16/19  08:15:00   \n",
      "\n",
      "  Adjusted_To_Date Adjusted_To_Time General _Offense_Categorization  \\\n",
      "0          3/20/19         13:55:00              Aggravated Assault   \n",
      "1           4/7/19         15:52:00              Aggravated Assault   \n",
      "2          5/16/19         21:00:00                         Robbery   \n",
      "3           4/4/19         01:30:00              Aggravated Assault   \n",
      "4          5/16/19         08:17:00                  Other Assaults   \n",
      "\n",
      "       Type_of_Crime UCR_Offense_Classification NIBRS NIBRS Offense Group  \\\n",
      "0      Violent Crime                     Part I   13A             Group A   \n",
      "1      Violent Crime                     Part I   13A             Group A   \n",
      "2      Violent Crime                     Part I   120             Group A   \n",
      "3      Violent Crime                     Part I   13A             Group A   \n",
      "4  Non-Violent Crime                    Part II   13B             Group A   \n",
      "\n",
      "  Age_Range  \n",
      "0     18-24  \n",
      "1     35-44  \n",
      "2     25-34  \n",
      "3     25-34  \n",
      "4     35-44  \n"
     ]
    }
   ],
   "source": [
    "print(df.head(n=5))"
   ]
  },
  {
   "cell_type": "markdown",
   "metadata": {},
   "source": [
    "## Binary Encoding\n",
    "Binary Encoding presents each category as a binary digit.\n",
    "\n",
    "**Type_of_Crime** will be handled this way:\n",
    "**Violent Crime** = 1\n",
    "**Non-Violent Crime** = 0"
   ]
  },
  {
   "cell_type": "code",
   "execution_count": 42,
   "metadata": {},
   "outputs": [],
   "source": [
    "# create column Is_Violent with binary encoding for Type_of_Crime column\n",
    "df['Is_Violent'] = df['Type_of_Crime'].apply(lambda x: 1 if x == 'Violent Crime' else 0)\n",
    "\n",
    "# define lists of offenses for each category\n",
    "property_crimes = [\n",
    "    'Burglary','Larcency-theft','Motor Vehicle Theft', 'Arson', 'Burglary/Breaking and Entering',\n",
    "    'Vandalism', 'Embezzlement', 'Extortion/Blackmail', 'Fraud','Counterfeiting / Forgery',\n",
    "    'Robbery', 'Stolen Property Offenses'\n",
    "    ]\n",
    "crimes_against_person = ['Murder and Nonnegligent Manslaughter', 'Negligent Manslaughter',\n",
    "    'Rape', 'Sex Offenses', 'Aggravated Assault', 'Kidnapping/Abduction'\n",
    "    ]\n",
    "crimes_against_society = [crime for crime in df['General _Offense_Categorization'].unique()\n",
    "                          if crime not in property_crimes + crimes_against_person]\n",
    "\n",
    "# create binary feature for property crime\n",
    "df['Is_Property_Crime'] = df['General _Offense_Categorization'].apply(lambda x: 1 if x in property_crimes else 0)\n",
    "df['Is_Crimes_Against_Person'] = df['General _Offense_Categorization'].apply(lambda x: 1 if x in crimes_against_person else 0)\n",
    "df['Is_Crimes_Against_Society'] = df ['General _Offense_Categorization'].apply(lambda x: 1 if x in crimes_against_society else 0)\n"
   ]
  },
  {
   "cell_type": "markdown",
   "metadata": {},
   "source": [
    "## Create Feature - Duration\n",
    "Represents the length of time in minutes from start to the end time of an event. "
   ]
  },
  {
   "cell_type": "code",
   "execution_count": 28,
   "metadata": {},
   "outputs": [
    {
     "name": "stdout",
     "output_type": "stream",
     "text": [
      "             From_DateTime Adjusted_To_DateTime  Duration\n",
      "0      2019-03-20 09:00:00  2019-03-20 13:55:00     295.0\n",
      "1      2019-04-07 15:45:00  2019-04-07 15:52:00       7.0\n",
      "2      2019-05-16 20:30:00  2019-05-16 21:00:00      30.0\n",
      "3      2019-04-03 21:30:00  2019-04-04 01:30:00     240.0\n",
      "4      2019-05-16 08:15:00  2019-05-16 08:17:00       2.0\n",
      "...                    ...                  ...       ...\n",
      "445284 2023-10-08 22:12:00  2023-10-08 22:13:00       1.0\n",
      "445285 2023-11-01 22:00:00  2023-11-02 19:00:00    1260.0\n",
      "445286 2023-10-08 23:19:00  2023-10-08 23:19:00       0.0\n",
      "445287 2023-10-17 14:47:00  2023-10-17 14:46:00      -1.0\n",
      "445288 2023-10-28 00:00:00  2023-10-30 00:00:00    2880.0\n",
      "\n",
      "[445289 rows x 3 columns]\n"
     ]
    }
   ],
   "source": [
    "# Convert to datetime\n",
    "df['From_DateTime'] = pd.to_datetime(df['From_Date'] + ' ' + df['From_Time'])\n",
    "df['Adjusted_To_DateTime'] = pd.to_datetime(df['Adjusted_To_Date'] + ' ' + df['Adjusted_To_Time'])\n",
    "\n",
    "# Calculate duration\n",
    "df['Duration'] = (df['Adjusted_To_DateTime'] - df['From_DateTime']).dt.total_seconds() / 60\n",
    "\n",
    "# View the DataFrame\n",
    "print(df[['From_DateTime', 'Adjusted_To_DateTime', 'Duration']])\n"
   ]
  },
  {
   "cell_type": "markdown",
   "metadata": {},
   "source": [
    "## Extract Hour to Capture Time of Day"
   ]
  },
  {
   "cell_type": "code",
   "execution_count": 29,
   "metadata": {},
   "outputs": [
    {
     "name": "stdout",
     "output_type": "stream",
     "text": [
      "    Report_No  Year  Quarter  Month Day_of_Week From_Date  From_Time  \\\n",
      "0  KC19020397  2019        1  March   Wednesday   3/20/19          9   \n",
      "1  KC19025235  2019        2  April      Sunday    4/7/19         15   \n",
      "2  KC19036511  2019        2    May    Thursday   5/16/19         20   \n",
      "3  KC19024315  2019        2  April   Wednesday    4/3/19         21   \n",
      "4  KC19035992  2019        2    May    Thursday   5/16/19          8   \n",
      "\n",
      "  Adjusted_To_Date  Adjusted_To_Time General _Offense_Categorization  \\\n",
      "0          3/20/19                13              Aggravated Assault   \n",
      "1           4/7/19                15              Aggravated Assault   \n",
      "2          5/16/19                21                         Robbery   \n",
      "3           4/4/19                 1              Aggravated Assault   \n",
      "4          5/16/19                 8                  Other Assaults   \n",
      "\n",
      "       Type_of_Crime UCR_Offense_Classification NIBRS NIBRS Offense Group  \\\n",
      "0      Violent Crime                     Part I   13A             Group A   \n",
      "1      Violent Crime                     Part I   13A             Group A   \n",
      "2      Violent Crime                     Part I   120             Group A   \n",
      "3      Violent Crime                     Part I   13A             Group A   \n",
      "4  Non-Violent Crime                    Part II   13B             Group A   \n",
      "\n",
      "  Age_Range       From_DateTime Adjusted_To_DateTime  Duration  \n",
      "0     18-24 2019-03-20 09:00:00  2019-03-20 13:55:00     295.0  \n",
      "1     35-44 2019-04-07 15:45:00  2019-04-07 15:52:00       7.0  \n",
      "2     25-34 2019-05-16 20:30:00  2019-05-16 21:00:00      30.0  \n",
      "3     25-34 2019-04-03 21:30:00  2019-04-04 01:30:00     240.0  \n",
      "4     35-44 2019-05-16 08:15:00  2019-05-16 08:17:00       2.0  \n"
     ]
    }
   ],
   "source": [
    "# Extract hour from From_Time & Adjusted_To_Time\n",
    "df['From_Time'] = pd.to_datetime(df['From_Time'],format='%H:%M:%S').dt.hour\n",
    "df['Adjusted_To_Time'] = pd.to_datetime(df['Adjusted_To_Time'], format='%H:%M:%S').dt.hour\n",
    "\n",
    "print(df.head(n=5))"
   ]
  },
  {
   "cell_type": "markdown",
   "metadata": {},
   "source": [
    "## Cyclical Encoding\n",
    "Cyclical Encoding of the 'Months' column into sine & cosine values as new columns in the DataFrame."
   ]
  },
  {
   "cell_type": "code",
   "execution_count": 32,
   "metadata": {},
   "outputs": [
    {
     "name": "stdout",
     "output_type": "stream",
     "text": [
      "<class 'pandas.core.frame.DataFrame'>\n",
      "RangeIndex: 445289 entries, 0 to 445288\n",
      "Data columns (total 26 columns):\n",
      " #   Column                           Non-Null Count   Dtype         \n",
      "---  ------                           --------------   -----         \n",
      " 0   Report_No                        445289 non-null  object        \n",
      " 1   Year                             445289 non-null  int64         \n",
      " 2   Quarter                          445289 non-null  int64         \n",
      " 3   Month                            445289 non-null  int64         \n",
      " 4   Day_of_Week                      445289 non-null  int64         \n",
      " 5   From_Date                        445289 non-null  object        \n",
      " 6   From_Time                        445289 non-null  int64         \n",
      " 7   Adjusted_To_Date                 445289 non-null  object        \n",
      " 8   Adjusted_To_Time                 445289 non-null  int64         \n",
      " 9   General _Offense_Categorization  445289 non-null  object        \n",
      " 10  Type_of_Crime                    445289 non-null  object        \n",
      " 11  UCR_Offense_Classification       445289 non-null  object        \n",
      " 12  NIBRS                            445289 non-null  object        \n",
      " 13  NIBRS Offense Group              445289 non-null  object        \n",
      " 14  Age_Range                        445289 non-null  object        \n",
      " 15  From_DateTime                    445289 non-null  datetime64[ns]\n",
      " 16  Adjusted_To_DateTime             445289 non-null  datetime64[ns]\n",
      " 17  Duration                         445289 non-null  float64       \n",
      " 18  sin_Months                       445289 non-null  float64       \n",
      " 19  cos_Months                       445289 non-null  float64       \n",
      " 20  sin_DayOfWeek                    445289 non-null  float64       \n",
      " 21  cos_DayOfWeek                    445289 non-null  float64       \n",
      " 22  sin_From_Time                    445289 non-null  float64       \n",
      " 23  cos_From_Time                    445289 non-null  float64       \n",
      " 24  sin_Adj_To_Time                  445289 non-null  float64       \n",
      " 25  cos_Adj_To_Time                  445289 non-null  float64       \n",
      "dtypes: datetime64[ns](2), float64(9), int64(6), object(9)\n",
      "memory usage: 88.3+ MB\n",
      "None\n"
     ]
    }
   ],
   "source": [
    "# Dictionary to map Month string to numerical value\n",
    "month_to_num = {\n",
    "    'January': 1, 'February': 2, 'March': 3, 'April': 4, 'May': 5, 'June': 6,\n",
    "    'July': 7,'August': 8, 'September': 9, 'October': 10, 'November': 11, 'December': 12\n",
    "}\n",
    "\n",
    "# Map the 'Month' column to numeric value\n",
    "df['Month'] = df['Month'].map(month_to_num)\n",
    "\n",
    "# Dictionary to map Day string to numerical value\n",
    "day_to_num = {\n",
    "    'Sunday': 0, 'Monday': 1, 'Tuesday': 2, 'Wednesday': 3,\n",
    "    'Thursday': 4, 'Friday': 5, 'Saturday': 6\n",
    "}\n",
    "\n",
    "# Map the 'Day_of_Week' column to numeric value\n",
    "df['Day_of_Week'] = df['Day_of_Week'].map(day_to_num)\n",
    "\n",
    "# Apply cyclical encoding to Year\n",
    "df['sin_Quarter'] = np.sin((2 * np.pi * df['Quarter'])/4)\n",
    "df['cos_Quarter'] = np.sin((2 * np.pi * df['Quarter'])/4)\n",
    "\n",
    "# Apply cyclical encoding to Months\n",
    "df['sin_Months'] = np.sin(2 * np.pi * df['Month']/12.0)\n",
    "df['cos_Months'] = np.cos(2 * np.pi * df['Month']/12.0)\n",
    "\n",
    "# Apply cyclical encoding to Day of Week for Weekday vs. Weekend Analysis\n",
    "df['sin_DayOfWeek'] = np.sin(2 * np.pi * df['Day_of_Week']/7.0)\n",
    "df['cos_DayOfWeek'] = np.cos(2 * np.pi * df['Day_of_Week']/7.0)\n",
    "\n",
    "# Apply cyclical encoding to From_Time\n",
    "df['sin_From_Time'] = np.sin(2 * np.pi * df['From_Time']/24)\n",
    "df['cos_From_Time'] = np.cos(2 * np.pi * df['From_Time']/24)\n",
    "\n",
    "# Apply cyclical encoding to Adjusted_To_Time\n",
    "df['sin_Adj_To_Time'] = np.sin(2 * np.pi * df['Adjusted_To_Time']/24)\n",
    "df['cos_Adj_To_Time'] = np.cos(2 * np.pi * df['Adjusted_To_Time']/24)\n",
    "\n",
    "\n",
    "print(df.info())"
   ]
  },
  {
   "cell_type": "markdown",
   "metadata": {},
   "source": [
    "## One-Hot Encoding"
   ]
  },
  {
   "cell_type": "code",
   "execution_count": 45,
   "metadata": {},
   "outputs": [
    {
     "name": "stdout",
     "output_type": "stream",
     "text": [
      "<class 'pandas.core.frame.DataFrame'>\n",
      "RangeIndex: 445289 entries, 0 to 445288\n",
      "Data columns (total 52 columns):\n",
      " #   Column                           Non-Null Count   Dtype         \n",
      "---  ------                           --------------   -----         \n",
      " 0   Report_No                        445289 non-null  object        \n",
      " 1   Year                             445289 non-null  int64         \n",
      " 2   Quarter                          445289 non-null  int64         \n",
      " 3   Month                            445289 non-null  int64         \n",
      " 4   Day_of_Week                      445289 non-null  int64         \n",
      " 5   From_Date                        445289 non-null  object        \n",
      " 6   From_Time                        445289 non-null  int64         \n",
      " 7   Adjusted_To_Date                 445289 non-null  object        \n",
      " 8   Adjusted_To_Time                 445289 non-null  int64         \n",
      " 9   General _Offense_Categorization  445289 non-null  object        \n",
      " 10  Type_of_Crime                    445289 non-null  object        \n",
      " 11  UCR_Offense_Classification       445289 non-null  object        \n",
      " 12  NIBRS                            445289 non-null  object        \n",
      " 13  NIBRS Offense Group              445289 non-null  object        \n",
      " 14  Age_Range                        445289 non-null  object        \n",
      " 15  From_DateTime                    445289 non-null  datetime64[ns]\n",
      " 16  Adjusted_To_DateTime             445289 non-null  datetime64[ns]\n",
      " 17  Duration                         445289 non-null  float64       \n",
      " 18  sin_Months                       445289 non-null  float64       \n",
      " 19  cos_Months                       445289 non-null  float64       \n",
      " 20  sin_DayOfWeek                    445289 non-null  float64       \n",
      " 21  cos_DayOfWeek                    445289 non-null  float64       \n",
      " 22  sin_From_Time                    445289 non-null  float64       \n",
      " 23  cos_From_Time                    445289 non-null  float64       \n",
      " 24  sin_Adj_To_Time                  445289 non-null  float64       \n",
      " 25  cos_Adj_To_Time                  445289 non-null  float64       \n",
      " 26  Offense_Rank                     445289 non-null  int64         \n",
      " 27  Is_Violent                       445289 non-null  int64         \n",
      " 28  Is_Property_Crime                445289 non-null  int64         \n",
      " 29  Is_Crimes_Against_Person         445289 non-null  int64         \n",
      " 30  Is_Crimes_Against_Society        445289 non-null  int64         \n",
      " 31  Year_Quarter                     445289 non-null  object        \n",
      " 32  2019_Q1                          445289 non-null  uint8         \n",
      " 33  2019_Q2                          445289 non-null  uint8         \n",
      " 34  2019_Q3                          445289 non-null  uint8         \n",
      " 35  2019_Q4                          445289 non-null  uint8         \n",
      " 36  2020_Q1                          445289 non-null  uint8         \n",
      " 37  2020_Q2                          445289 non-null  uint8         \n",
      " 38  2020_Q3                          445289 non-null  uint8         \n",
      " 39  2020_Q4                          445289 non-null  uint8         \n",
      " 40  2021_Q1                          445289 non-null  uint8         \n",
      " 41  2021_Q2                          445289 non-null  uint8         \n",
      " 42  2021_Q3                          445289 non-null  uint8         \n",
      " 43  2021_Q4                          445289 non-null  uint8         \n",
      " 44  2022_Q1                          445289 non-null  uint8         \n",
      " 45  2022_Q2                          445289 non-null  uint8         \n",
      " 46  2022_Q3                          445289 non-null  uint8         \n",
      " 47  2022_Q4                          445289 non-null  uint8         \n",
      " 48  2023_Q1                          445289 non-null  uint8         \n",
      " 49  2023_Q2                          445289 non-null  uint8         \n",
      " 50  2023_Q3                          445289 non-null  uint8         \n",
      " 51  2023_Q4                          445289 non-null  uint8         \n",
      "dtypes: datetime64[ns](2), float64(9), int64(11), object(10), uint8(20)\n",
      "memory usage: 117.2+ MB\n",
      "None\n"
     ]
    }
   ],
   "source": [
    "# Adding year trend\n",
    "df['Year_Quarter'] = df['Year'].astype(str) + '_Q' + df['Quarter'].astype(str)\n",
    "\n",
    "year_quarter_dummies = pd.get_dummies(df['Year_Quarter'])\n",
    "df = pd.concat([df, year_quarter_dummies], axis=1)\n",
    "\n",
    "print(df.info())"
   ]
  },
  {
   "cell_type": "markdown",
   "metadata": {},
   "source": [
    "## Ordinal Encoding\n",
    "This is meant to create a mapping for **General_Offense_Classification** that assigns a rank order to each type of offence based on the Uniform Crime Reporting program classification of Part I and Part 2 offenses. "
   ]
  },
  {
   "cell_type": "code",
   "execution_count": 39,
   "metadata": {},
   "outputs": [],
   "source": [
    "# offense ranking according to the UCR hierarchy\n",
    "offense_ranking = {\n",
    "    'Murder and Nonnegligent Manslaughter': 1,\n",
    "    'Negligent Manslaughter': 2,\n",
    "    'Rape': 3,\n",
    "    'Robbery': 4,\n",
    "    'Aggravated Assault': 5,\n",
    "    'Burglary/Breaking and Entering': 6,\n",
    "    'Larceny-theft': 7,\n",
    "    'Motor Vehicle Theft': 8,\n",
    "    'Arson': 9,\n",
    "    'Other Assaults': 10,\n",
    "    'Counterfeiting / Forgery': 11,\n",
    "    'Fraud': 12,\n",
    "    'Embezzlement': 13,\n",
    "    'Extortion/Blackmail': 14,\n",
    "    'Stolen Property Offenses': 15,\n",
    "    'Vandalism': 16,\n",
    "    'Weapons: Carrying, Possessing, etc.': 17,\n",
    "    'Prostitution and Commercialized Vice': 18,\n",
    "    'Pornography / Obscene Material': 19,\n",
    "    'Sex Offenses': 20,\n",
    "    'Drug Abuse Violations': 21,\n",
    "    'Drug Equipment Violations': 22,\n",
    "    'Offenses Against Family and Children': 23,\n",
    "    'Driving Under the Influence': 24,\n",
    "    'Liqour Laws': 25,\n",
    "    'Drunkenness': 26,\n",
    "    'Disorderly Conduct': 27,\n",
    "    'All Other Offenses': 28,\n",
    "    'Kidnapping/Abduction': 29,\n",
    "    'Bribery': 30,\n",
    "    'Curfew and Loitering Laws': 31,\n",
    "    'Animal Cruelty': 32\n",
    "}\n",
    "\n",
    "# Assign the rank to each offense\n",
    "df['Offense_Rank'] = df['General _Offense_Categorization'].map(offense_ranking)"
   ]
  },
  {
   "cell_type": "code",
   "execution_count": 46,
   "metadata": {},
   "outputs": [
    {
     "name": "stdout",
     "output_type": "stream",
     "text": [
      "<class 'pandas.core.frame.DataFrame'>\n",
      "RangeIndex: 445289 entries, 0 to 445288\n",
      "Data columns (total 52 columns):\n",
      " #   Column                           Non-Null Count   Dtype         \n",
      "---  ------                           --------------   -----         \n",
      " 0   Report_No                        445289 non-null  object        \n",
      " 1   Year                             445289 non-null  int64         \n",
      " 2   Quarter                          445289 non-null  int64         \n",
      " 3   Month                            445289 non-null  int64         \n",
      " 4   Day_of_Week                      445289 non-null  int64         \n",
      " 5   From_Date                        445289 non-null  object        \n",
      " 6   From_Time                        445289 non-null  int64         \n",
      " 7   Adjusted_To_Date                 445289 non-null  object        \n",
      " 8   Adjusted_To_Time                 445289 non-null  int64         \n",
      " 9   General _Offense_Categorization  445289 non-null  object        \n",
      " 10  Type_of_Crime                    445289 non-null  object        \n",
      " 11  UCR_Offense_Classification       445289 non-null  object        \n",
      " 12  NIBRS                            445289 non-null  object        \n",
      " 13  NIBRS Offense Group              445289 non-null  object        \n",
      " 14  Age_Range                        445289 non-null  object        \n",
      " 15  From_DateTime                    445289 non-null  datetime64[ns]\n",
      " 16  Adjusted_To_DateTime             445289 non-null  datetime64[ns]\n",
      " 17  Duration                         445289 non-null  float64       \n",
      " 18  sin_Months                       445289 non-null  float64       \n",
      " 19  cos_Months                       445289 non-null  float64       \n",
      " 20  sin_DayOfWeek                    445289 non-null  float64       \n",
      " 21  cos_DayOfWeek                    445289 non-null  float64       \n",
      " 22  sin_From_Time                    445289 non-null  float64       \n",
      " 23  cos_From_Time                    445289 non-null  float64       \n",
      " 24  sin_Adj_To_Time                  445289 non-null  float64       \n",
      " 25  cos_Adj_To_Time                  445289 non-null  float64       \n",
      " 26  Offense_Rank                     445289 non-null  int64         \n",
      " 27  Is_Violent                       445289 non-null  int64         \n",
      " 28  Is_Property_Crime                445289 non-null  int64         \n",
      " 29  Is_Crimes_Against_Person         445289 non-null  int64         \n",
      " 30  Is_Crimes_Against_Society        445289 non-null  int64         \n",
      " 31  Year_Quarter                     445289 non-null  object        \n",
      " 32  2019_Q1                          445289 non-null  uint8         \n",
      " 33  2019_Q2                          445289 non-null  uint8         \n",
      " 34  2019_Q3                          445289 non-null  uint8         \n",
      " 35  2019_Q4                          445289 non-null  uint8         \n",
      " 36  2020_Q1                          445289 non-null  uint8         \n",
      " 37  2020_Q2                          445289 non-null  uint8         \n",
      " 38  2020_Q3                          445289 non-null  uint8         \n",
      " 39  2020_Q4                          445289 non-null  uint8         \n",
      " 40  2021_Q1                          445289 non-null  uint8         \n",
      " 41  2021_Q2                          445289 non-null  uint8         \n",
      " 42  2021_Q3                          445289 non-null  uint8         \n",
      " 43  2021_Q4                          445289 non-null  uint8         \n",
      " 44  2022_Q1                          445289 non-null  uint8         \n",
      " 45  2022_Q2                          445289 non-null  uint8         \n",
      " 46  2022_Q3                          445289 non-null  uint8         \n",
      " 47  2022_Q4                          445289 non-null  uint8         \n",
      " 48  2023_Q1                          445289 non-null  uint8         \n",
      " 49  2023_Q2                          445289 non-null  uint8         \n",
      " 50  2023_Q3                          445289 non-null  uint8         \n",
      " 51  2023_Q4                          445289 non-null  uint8         \n",
      "dtypes: datetime64[ns](2), float64(9), int64(11), object(10), uint8(20)\n",
      "memory usage: 117.2+ MB\n",
      "None\n"
     ]
    }
   ],
   "source": [
    "print(df.info())"
   ]
  },
  {
   "cell_type": "markdown",
   "metadata": {},
   "source": [
    "## Drop Columns"
   ]
  },
  {
   "cell_type": "code",
   "execution_count": 47,
   "metadata": {},
   "outputs": [],
   "source": [
    "# columns to drop\n",
    "columns_to_drop = [\n",
    "    'Report_No', 'Year', 'Quarter', 'Month', 'Day_of_Week',\n",
    "    'From_Date', 'Adjusted_To_Date', 'From_Time', 'Adjusted_To_Time',\n",
    "    'General _Offense_Categorization', 'Type_of_Crime',\n",
    "    'UCR_Offense_Classification', 'NIBRS', 'NIBRS Offense Group','From_DateTime',\n",
    "    'Adjusted_To_DateTime', 'Year_Quarter'\n",
    "]\n",
    "\n",
    "# drop specified columns\n",
    "df.drop(columns=columns_to_drop, inplace=True)"
   ]
  },
  {
   "cell_type": "code",
   "execution_count": 49,
   "metadata": {},
   "outputs": [
    {
     "name": "stdout",
     "output_type": "stream",
     "text": [
      "<class 'pandas.core.frame.DataFrame'>\n",
      "RangeIndex: 445289 entries, 0 to 445288\n",
      "Data columns (total 35 columns):\n",
      " #   Column                     Non-Null Count   Dtype  \n",
      "---  ------                     --------------   -----  \n",
      " 0   Age_Range                  445289 non-null  object \n",
      " 1   Duration                   445289 non-null  float64\n",
      " 2   sin_Months                 445289 non-null  float64\n",
      " 3   cos_Months                 445289 non-null  float64\n",
      " 4   sin_DayOfWeek              445289 non-null  float64\n",
      " 5   cos_DayOfWeek              445289 non-null  float64\n",
      " 6   sin_From_Time              445289 non-null  float64\n",
      " 7   cos_From_Time              445289 non-null  float64\n",
      " 8   sin_Adj_To_Time            445289 non-null  float64\n",
      " 9   cos_Adj_To_Time            445289 non-null  float64\n",
      " 10  Offense_Rank               445289 non-null  int64  \n",
      " 11  Is_Violent                 445289 non-null  int64  \n",
      " 12  Is_Property_Crime          445289 non-null  int64  \n",
      " 13  Is_Crimes_Against_Person   445289 non-null  int64  \n",
      " 14  Is_Crimes_Against_Society  445289 non-null  int64  \n",
      " 15  2019_Q1                    445289 non-null  uint8  \n",
      " 16  2019_Q2                    445289 non-null  uint8  \n",
      " 17  2019_Q3                    445289 non-null  uint8  \n",
      " 18  2019_Q4                    445289 non-null  uint8  \n",
      " 19  2020_Q1                    445289 non-null  uint8  \n",
      " 20  2020_Q2                    445289 non-null  uint8  \n",
      " 21  2020_Q3                    445289 non-null  uint8  \n",
      " 22  2020_Q4                    445289 non-null  uint8  \n",
      " 23  2021_Q1                    445289 non-null  uint8  \n",
      " 24  2021_Q2                    445289 non-null  uint8  \n",
      " 25  2021_Q3                    445289 non-null  uint8  \n",
      " 26  2021_Q4                    445289 non-null  uint8  \n",
      " 27  2022_Q1                    445289 non-null  uint8  \n",
      " 28  2022_Q2                    445289 non-null  uint8  \n",
      " 29  2022_Q3                    445289 non-null  uint8  \n",
      " 30  2022_Q4                    445289 non-null  uint8  \n",
      " 31  2023_Q1                    445289 non-null  uint8  \n",
      " 32  2023_Q2                    445289 non-null  uint8  \n",
      " 33  2023_Q3                    445289 non-null  uint8  \n",
      " 34  2023_Q4                    445289 non-null  uint8  \n",
      "dtypes: float64(9), int64(5), object(1), uint8(20)\n",
      "memory usage: 59.5+ MB\n",
      "None\n",
      "Age_Range                    0\n",
      "Duration                     0\n",
      "sin_Months                   0\n",
      "cos_Months                   0\n",
      "sin_DayOfWeek                0\n",
      "cos_DayOfWeek                0\n",
      "sin_From_Time                0\n",
      "cos_From_Time                0\n",
      "sin_Adj_To_Time              0\n",
      "cos_Adj_To_Time              0\n",
      "Offense_Rank                 0\n",
      "Is_Violent                   0\n",
      "Is_Property_Crime            0\n",
      "Is_Crimes_Against_Person     0\n",
      "Is_Crimes_Against_Society    0\n",
      "2019_Q1                      0\n",
      "2019_Q2                      0\n",
      "2019_Q3                      0\n",
      "2019_Q4                      0\n",
      "2020_Q1                      0\n",
      "2020_Q2                      0\n",
      "2020_Q3                      0\n",
      "2020_Q4                      0\n",
      "2021_Q1                      0\n",
      "2021_Q2                      0\n",
      "2021_Q3                      0\n",
      "2021_Q4                      0\n",
      "2022_Q1                      0\n",
      "2022_Q2                      0\n",
      "2022_Q3                      0\n",
      "2022_Q4                      0\n",
      "2023_Q1                      0\n",
      "2023_Q2                      0\n",
      "2023_Q3                      0\n",
      "2023_Q4                      0\n",
      "dtype: int64\n"
     ]
    }
   ],
   "source": [
    "print(df.info())\n",
    "print(df.isnull().sum())"
   ]
  },
  {
   "cell_type": "markdown",
   "metadata": {},
   "source": [
    "## Export DataFrame to New CSV"
   ]
  },
  {
   "cell_type": "code",
   "execution_count": 55,
   "metadata": {},
   "outputs": [],
   "source": [
    "# file path for the new file\n",
    "file_path = 'KCPD-5-Year-Analysis-Model.csv'\n",
    "\n",
    "# export the dataframe\n",
    "df.to_csv(file_path,index=False)"
   ]
  }
 ],
 "metadata": {
  "kernelspec": {
   "display_name": "base",
   "language": "python",
   "name": "python3"
  },
  "language_info": {
   "codemirror_mode": {
    "name": "ipython",
    "version": 3
   },
   "file_extension": ".py",
   "mimetype": "text/x-python",
   "name": "python",
   "nbconvert_exporter": "python",
   "pygments_lexer": "ipython3",
   "version": "3.9.12"
  }
 },
 "nbformat": 4,
 "nbformat_minor": 2
}
