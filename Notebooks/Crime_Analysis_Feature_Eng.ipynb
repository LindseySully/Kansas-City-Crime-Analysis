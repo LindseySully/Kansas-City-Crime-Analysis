{
 "cells": [
  {
   "cell_type": "markdown",
   "metadata": {},
   "source": [
    "# Crime Analysis Feature Engineering"
   ]
  },
  {
   "cell_type": "markdown",
   "metadata": {},
   "source": [
    "The purpose of this notebook is to breakdown the various encoding requirements for the data set after the establishment of the correlation and importance of the features reflected upon during the EDA process. This is the first step before the predictive analysis that will be done via Machine Learning Algorithms."
   ]
  },
  {
   "cell_type": "markdown",
   "metadata": {},
   "source": [
    "## Libraries for Modeling"
   ]
  },
  {
   "cell_type": "code",
   "execution_count": 1,
   "metadata": {},
   "outputs": [],
   "source": [
    "# Libraries\n",
    "import pandas as pd\n",
    "import numpy as np\n",
    "from datetime import datetime, time"
   ]
  },
  {
   "cell_type": "markdown",
   "metadata": {},
   "source": [
    "## Read CSV File"
   ]
  },
  {
   "cell_type": "code",
   "execution_count": 3,
   "metadata": {},
   "outputs": [],
   "source": [
    "csv_file_path = '/Users/lindseysullivan/Documents/School/Kansas-City-Crime-Analysis/Data/Data_Sets/KCPD-5-Year-Analysis-Feature-Eng.CSV'\n",
    "df = pd.read_csv(csv_file_path)"
   ]
  },
  {
   "cell_type": "code",
   "execution_count": 4,
   "metadata": {},
   "outputs": [
    {
     "name": "stdout",
     "output_type": "stream",
     "text": [
      "    Report_No  Year  Quarter  Month Day_of_Week From_Date From_Time  \\\n",
      "0  KC19020397  2019        1  March   Wednesday   3/20/19  09:00:00   \n",
      "1  KC19025235  2019        2  April      Sunday    4/7/19  15:45:00   \n",
      "2  KC19036511  2019        2    May    Thursday   5/16/19  20:30:00   \n",
      "3  KC19024315  2019        2  April   Wednesday    4/3/19  21:30:00   \n",
      "4  KC19035992  2019        2    May    Thursday   5/16/19  08:15:00   \n",
      "\n",
      "  Adjusted_To_Date Adjusted_To_Time General _Offense_Categorization  \\\n",
      "0          3/20/19         13:55:00              Aggravated Assault   \n",
      "1           4/7/19         15:52:00              Aggravated Assault   \n",
      "2          5/16/19         21:00:00                         Robbery   \n",
      "3           4/4/19         01:30:00              Aggravated Assault   \n",
      "4          5/16/19         08:17:00                  Other Assaults   \n",
      "\n",
      "       Type_of_Crime UCR_Offense_Classification NIBRS NIBRS Offense Group  \\\n",
      "0      Violent Crime                     Part I   13A             Group A   \n",
      "1      Violent Crime                     Part I   13A             Group A   \n",
      "2      Violent Crime                     Part I   120             Group A   \n",
      "3      Violent Crime                     Part I   13A             Group A   \n",
      "4  Non-Violent Crime                    Part II   13B             Group A   \n",
      "\n",
      "  Age_Range  \n",
      "0     18-24  \n",
      "1     35-44  \n",
      "2     25-34  \n",
      "3     25-34  \n",
      "4     35-44  \n"
     ]
    }
   ],
   "source": [
    "print(df.head(n=5))"
   ]
  },
  {
   "cell_type": "markdown",
   "metadata": {},
   "source": [
    "## Binary Encoding\n",
    "Binary Encoding presents each category as a binary digit.\n",
    "\n",
    "**Type_of_Crime** will be handled this way:\n",
    "**Violent Crime** = 1\n",
    "**Non-Violent Crime** = 0"
   ]
  },
  {
   "cell_type": "code",
   "execution_count": 5,
   "metadata": {},
   "outputs": [],
   "source": [
    "# create column Is_Violent with binary encoding for Type_of_Crime column\n",
    "df['Is_Violent'] = df['Type_of_Crime'].apply(lambda x: 1 if x == 'Violent Crime' else 0)\n",
    "\n",
    "# define lists of offenses for each category\n",
    "property_crimes = [\n",
    "    'Burglary','Larcency-theft','Motor Vehicle Theft', 'Arson', 'Burglary/Breaking and Entering',\n",
    "    'Vandalism', 'Embezzlement', 'Extortion/Blackmail', 'Fraud','Counterfeiting / Forgery',\n",
    "    'Robbery', 'Stolen Property Offenses'\n",
    "    ]\n",
    "crimes_against_person = ['Murder and Nonnegligent Manslaughter', 'Negligent Manslaughter',\n",
    "    'Rape', 'Sex Offenses', 'Aggravated Assault', 'Kidnapping/Abduction'\n",
    "    ]\n",
    "crimes_against_society = [crime for crime in df['General _Offense_Categorization'].unique()\n",
    "                          if crime not in property_crimes + crimes_against_person]\n",
    "\n",
    "# create binary feature for property crime\n",
    "df['Is_Property_Crime'] = df['General _Offense_Categorization'].apply(lambda x: 1 if x in property_crimes else 0)\n",
    "df['Is_Crimes_Against_Person'] = df['General _Offense_Categorization'].apply(lambda x: 1 if x in crimes_against_person else 0)\n",
    "df['Is_Crimes_Against_Society'] = df ['General _Offense_Categorization'].apply(lambda x: 1 if x in crimes_against_society else 0)\n"
   ]
  },
  {
   "cell_type": "markdown",
   "metadata": {},
   "source": [
    "## Create Feature - Duration\n",
    "Represents the length of time in minutes from start to the end time of an event. "
   ]
  },
  {
   "cell_type": "code",
   "execution_count": 6,
   "metadata": {},
   "outputs": [
    {
     "name": "stdout",
     "output_type": "stream",
     "text": [
      "             From_DateTime Adjusted_To_DateTime  Duration\n",
      "0      2019-03-20 09:00:00  2019-03-20 13:55:00     295.0\n",
      "1      2019-04-07 15:45:00  2019-04-07 15:52:00       7.0\n",
      "2      2019-05-16 20:30:00  2019-05-16 21:00:00      30.0\n",
      "3      2019-04-03 21:30:00  2019-04-04 01:30:00     240.0\n",
      "4      2019-05-16 08:15:00  2019-05-16 08:17:00       2.0\n",
      "...                    ...                  ...       ...\n",
      "445284 2023-10-08 22:12:00  2023-10-08 22:13:00       1.0\n",
      "445285 2023-11-01 22:00:00  2023-11-02 19:00:00    1260.0\n",
      "445286 2023-10-08 23:19:00  2023-10-08 23:19:00       0.0\n",
      "445287 2023-10-17 14:47:00  2023-10-17 14:46:00      -1.0\n",
      "445288 2023-10-28 00:00:00  2023-10-30 00:00:00    2880.0\n",
      "\n",
      "[445289 rows x 3 columns]\n"
     ]
    }
   ],
   "source": [
    "# Convert to datetime\n",
    "df['From_DateTime'] = pd.to_datetime(df['From_Date'] + ' ' + df['From_Time'])\n",
    "df['Adjusted_To_DateTime'] = pd.to_datetime(df['Adjusted_To_Date'] + ' ' + df['Adjusted_To_Time'])\n",
    "\n",
    "# Calculate duration\n",
    "df['Duration'] = (df['Adjusted_To_DateTime'] - df['From_DateTime']).dt.total_seconds() / 60\n",
    "\n",
    "# View the DataFrame\n",
    "print(df[['From_DateTime', 'Adjusted_To_DateTime', 'Duration']])\n"
   ]
  },
  {
   "cell_type": "markdown",
   "metadata": {},
   "source": [
    "## Extract Hour to Capture Time of Day"
   ]
  },
  {
   "cell_type": "code",
   "execution_count": 7,
   "metadata": {},
   "outputs": [
    {
     "name": "stdout",
     "output_type": "stream",
     "text": [
      "    Report_No  Year  Quarter  Month Day_of_Week From_Date  From_Time  \\\n",
      "0  KC19020397  2019        1  March   Wednesday   3/20/19          9   \n",
      "1  KC19025235  2019        2  April      Sunday    4/7/19         15   \n",
      "2  KC19036511  2019        2    May    Thursday   5/16/19         20   \n",
      "3  KC19024315  2019        2  April   Wednesday    4/3/19         21   \n",
      "4  KC19035992  2019        2    May    Thursday   5/16/19          8   \n",
      "\n",
      "  Adjusted_To_Date  Adjusted_To_Time General _Offense_Categorization  ...  \\\n",
      "0          3/20/19                13              Aggravated Assault  ...   \n",
      "1           4/7/19                15              Aggravated Assault  ...   \n",
      "2          5/16/19                21                         Robbery  ...   \n",
      "3           4/4/19                 1              Aggravated Assault  ...   \n",
      "4          5/16/19                 8                  Other Assaults  ...   \n",
      "\n",
      "  NIBRS NIBRS Offense Group Age_Range Is_Violent Is_Property_Crime  \\\n",
      "0   13A             Group A     18-24          1                 0   \n",
      "1   13A             Group A     35-44          1                 0   \n",
      "2   120             Group A     25-34          1                 1   \n",
      "3   13A             Group A     25-34          1                 0   \n",
      "4   13B             Group A     35-44          0                 0   \n",
      "\n",
      "   Is_Crimes_Against_Person  Is_Crimes_Against_Society       From_DateTime  \\\n",
      "0                         1                          0 2019-03-20 09:00:00   \n",
      "1                         1                          0 2019-04-07 15:45:00   \n",
      "2                         0                          0 2019-05-16 20:30:00   \n",
      "3                         1                          0 2019-04-03 21:30:00   \n",
      "4                         0                          1 2019-05-16 08:15:00   \n",
      "\n",
      "   Adjusted_To_DateTime Duration  \n",
      "0   2019-03-20 13:55:00    295.0  \n",
      "1   2019-04-07 15:52:00      7.0  \n",
      "2   2019-05-16 21:00:00     30.0  \n",
      "3   2019-04-04 01:30:00    240.0  \n",
      "4   2019-05-16 08:17:00      2.0  \n",
      "\n",
      "[5 rows x 22 columns]\n"
     ]
    }
   ],
   "source": [
    "# Extract hour from From_Time & Adjusted_To_Time\n",
    "df['From_Time'] = pd.to_datetime(df['From_Time'],format='%H:%M:%S').dt.hour\n",
    "df['Adjusted_To_Time'] = pd.to_datetime(df['Adjusted_To_Time'], format='%H:%M:%S').dt.hour\n",
    "\n",
    "print(df.head(n=5))"
   ]
  },
  {
   "cell_type": "markdown",
   "metadata": {},
   "source": [
    "## Cyclical Encoding\n",
    "Cyclical Encoding of the 'Months' column into sine & cosine values as new columns in the DataFrame."
   ]
  },
  {
   "cell_type": "code",
   "execution_count": 8,
   "metadata": {},
   "outputs": [
    {
     "name": "stdout",
     "output_type": "stream",
     "text": [
      "<class 'pandas.core.frame.DataFrame'>\n",
      "RangeIndex: 445289 entries, 0 to 445288\n",
      "Data columns (total 32 columns):\n",
      " #   Column                           Non-Null Count   Dtype         \n",
      "---  ------                           --------------   -----         \n",
      " 0   Report_No                        445289 non-null  object        \n",
      " 1   Year                             445289 non-null  int64         \n",
      " 2   Quarter                          445289 non-null  int64         \n",
      " 3   Month                            445289 non-null  int64         \n",
      " 4   Day_of_Week                      445289 non-null  int64         \n",
      " 5   From_Date                        445289 non-null  object        \n",
      " 6   From_Time                        445289 non-null  int64         \n",
      " 7   Adjusted_To_Date                 445289 non-null  object        \n",
      " 8   Adjusted_To_Time                 445289 non-null  int64         \n",
      " 9   General _Offense_Categorization  445289 non-null  object        \n",
      " 10  Type_of_Crime                    445289 non-null  object        \n",
      " 11  UCR_Offense_Classification       445289 non-null  object        \n",
      " 12  NIBRS                            445289 non-null  object        \n",
      " 13  NIBRS Offense Group              445289 non-null  object        \n",
      " 14  Age_Range                        445289 non-null  object        \n",
      " 15  Is_Violent                       445289 non-null  int64         \n",
      " 16  Is_Property_Crime                445289 non-null  int64         \n",
      " 17  Is_Crimes_Against_Person         445289 non-null  int64         \n",
      " 18  Is_Crimes_Against_Society        445289 non-null  int64         \n",
      " 19  From_DateTime                    445289 non-null  datetime64[ns]\n",
      " 20  Adjusted_To_DateTime             445289 non-null  datetime64[ns]\n",
      " 21  Duration                         445289 non-null  float64       \n",
      " 22  sin_Quarter                      445289 non-null  float64       \n",
      " 23  cos_Quarter                      445289 non-null  float64       \n",
      " 24  sin_Months                       445289 non-null  float64       \n",
      " 25  cos_Months                       445289 non-null  float64       \n",
      " 26  sin_DayOfWeek                    445289 non-null  float64       \n",
      " 27  cos_DayOfWeek                    445289 non-null  float64       \n",
      " 28  sin_From_Time                    445289 non-null  float64       \n",
      " 29  cos_From_Time                    445289 non-null  float64       \n",
      " 30  sin_Adj_To_Time                  445289 non-null  float64       \n",
      " 31  cos_Adj_To_Time                  445289 non-null  float64       \n",
      "dtypes: datetime64[ns](2), float64(11), int64(10), object(9)\n",
      "memory usage: 108.7+ MB\n",
      "None\n"
     ]
    }
   ],
   "source": [
    "# Dictionary to map Month string to numerical value\n",
    "month_to_num = {\n",
    "    'January': 1, 'February': 2, 'March': 3, 'April': 4, 'May': 5, 'June': 6,\n",
    "    'July': 7,'August': 8, 'September': 9, 'October': 10, 'November': 11, 'December': 12\n",
    "}\n",
    "\n",
    "# Map the 'Month' column to numeric value\n",
    "df['Month'] = df['Month'].map(month_to_num)\n",
    "\n",
    "# Dictionary to map Day string to numerical value\n",
    "day_to_num = {\n",
    "    'Sunday': 0, 'Monday': 1, 'Tuesday': 2, 'Wednesday': 3,\n",
    "    'Thursday': 4, 'Friday': 5, 'Saturday': 6\n",
    "}\n",
    "\n",
    "# Map the 'Day_of_Week' column to numeric value\n",
    "df['Day_of_Week'] = df['Day_of_Week'].map(day_to_num)\n",
    "\n",
    "# Apply cyclical encoding to Year\n",
    "df['sin_Quarter'] = np.sin((2 * np.pi * df['Quarter'])/4)\n",
    "df['cos_Quarter'] = np.sin((2 * np.pi * df['Quarter'])/4)\n",
    "\n",
    "# Apply cyclical encoding to Months\n",
    "df['sin_Months'] = np.sin(2 * np.pi * df['Month']/12.0)\n",
    "df['cos_Months'] = np.cos(2 * np.pi * df['Month']/12.0)\n",
    "\n",
    "# Apply cyclical encoding to Day of Week for Weekday vs. Weekend Analysis\n",
    "df['sin_DayOfWeek'] = np.sin(2 * np.pi * df['Day_of_Week']/7.0)\n",
    "df['cos_DayOfWeek'] = np.cos(2 * np.pi * df['Day_of_Week']/7.0)\n",
    "\n",
    "# Apply cyclical encoding to From_Time\n",
    "df['sin_From_Time'] = np.sin(2 * np.pi * df['From_Time']/24)\n",
    "df['cos_From_Time'] = np.cos(2 * np.pi * df['From_Time']/24)\n",
    "\n",
    "# Apply cyclical encoding to Adjusted_To_Time\n",
    "df['sin_Adj_To_Time'] = np.sin(2 * np.pi * df['Adjusted_To_Time']/24)\n",
    "df['cos_Adj_To_Time'] = np.cos(2 * np.pi * df['Adjusted_To_Time']/24)\n",
    "\n",
    "\n",
    "print(df.info())"
   ]
  },
  {
   "cell_type": "markdown",
   "metadata": {},
   "source": [
    "## One-Hot Encoding"
   ]
  },
  {
   "cell_type": "code",
   "execution_count": 9,
   "metadata": {},
   "outputs": [
    {
     "name": "stdout",
     "output_type": "stream",
     "text": [
      "<class 'pandas.core.frame.DataFrame'>\n",
      "RangeIndex: 445289 entries, 0 to 445288\n",
      "Data columns (total 53 columns):\n",
      " #   Column                           Non-Null Count   Dtype         \n",
      "---  ------                           --------------   -----         \n",
      " 0   Report_No                        445289 non-null  object        \n",
      " 1   Year                             445289 non-null  int64         \n",
      " 2   Quarter                          445289 non-null  int64         \n",
      " 3   Month                            445289 non-null  int64         \n",
      " 4   Day_of_Week                      445289 non-null  int64         \n",
      " 5   From_Date                        445289 non-null  object        \n",
      " 6   From_Time                        445289 non-null  int64         \n",
      " 7   Adjusted_To_Date                 445289 non-null  object        \n",
      " 8   Adjusted_To_Time                 445289 non-null  int64         \n",
      " 9   General _Offense_Categorization  445289 non-null  object        \n",
      " 10  Type_of_Crime                    445289 non-null  object        \n",
      " 11  UCR_Offense_Classification       445289 non-null  object        \n",
      " 12  NIBRS                            445289 non-null  object        \n",
      " 13  NIBRS Offense Group              445289 non-null  object        \n",
      " 14  Age_Range                        445289 non-null  object        \n",
      " 15  Is_Violent                       445289 non-null  int64         \n",
      " 16  Is_Property_Crime                445289 non-null  int64         \n",
      " 17  Is_Crimes_Against_Person         445289 non-null  int64         \n",
      " 18  Is_Crimes_Against_Society        445289 non-null  int64         \n",
      " 19  From_DateTime                    445289 non-null  datetime64[ns]\n",
      " 20  Adjusted_To_DateTime             445289 non-null  datetime64[ns]\n",
      " 21  Duration                         445289 non-null  float64       \n",
      " 22  sin_Quarter                      445289 non-null  float64       \n",
      " 23  cos_Quarter                      445289 non-null  float64       \n",
      " 24  sin_Months                       445289 non-null  float64       \n",
      " 25  cos_Months                       445289 non-null  float64       \n",
      " 26  sin_DayOfWeek                    445289 non-null  float64       \n",
      " 27  cos_DayOfWeek                    445289 non-null  float64       \n",
      " 28  sin_From_Time                    445289 non-null  float64       \n",
      " 29  cos_From_Time                    445289 non-null  float64       \n",
      " 30  sin_Adj_To_Time                  445289 non-null  float64       \n",
      " 31  cos_Adj_To_Time                  445289 non-null  float64       \n",
      " 32  Year_Quarter                     445289 non-null  object        \n",
      " 33  2019_Q1                          445289 non-null  uint8         \n",
      " 34  2019_Q2                          445289 non-null  uint8         \n",
      " 35  2019_Q3                          445289 non-null  uint8         \n",
      " 36  2019_Q4                          445289 non-null  uint8         \n",
      " 37  2020_Q1                          445289 non-null  uint8         \n",
      " 38  2020_Q2                          445289 non-null  uint8         \n",
      " 39  2020_Q3                          445289 non-null  uint8         \n",
      " 40  2020_Q4                          445289 non-null  uint8         \n",
      " 41  2021_Q1                          445289 non-null  uint8         \n",
      " 42  2021_Q2                          445289 non-null  uint8         \n",
      " 43  2021_Q3                          445289 non-null  uint8         \n",
      " 44  2021_Q4                          445289 non-null  uint8         \n",
      " 45  2022_Q1                          445289 non-null  uint8         \n",
      " 46  2022_Q2                          445289 non-null  uint8         \n",
      " 47  2022_Q3                          445289 non-null  uint8         \n",
      " 48  2022_Q4                          445289 non-null  uint8         \n",
      " 49  2023_Q1                          445289 non-null  uint8         \n",
      " 50  2023_Q2                          445289 non-null  uint8         \n",
      " 51  2023_Q3                          445289 non-null  uint8         \n",
      " 52  2023_Q4                          445289 non-null  uint8         \n",
      "dtypes: datetime64[ns](2), float64(11), int64(10), object(10), uint8(20)\n",
      "memory usage: 120.6+ MB\n",
      "None\n"
     ]
    }
   ],
   "source": [
    "# Adding year trend\n",
    "df['Year_Quarter'] = df['Year'].astype(str) + '_Q' + df['Quarter'].astype(str)\n",
    "\n",
    "year_quarter_dummies = pd.get_dummies(df['Year_Quarter'])\n",
    "df = pd.concat([df, year_quarter_dummies], axis=1)\n",
    "\n",
    "print(df.info())"
   ]
  },
  {
   "cell_type": "markdown",
   "metadata": {},
   "source": [
    "## Ordinal Encoding\n",
    "This is meant to create a mapping for **General_Offense_Classification** that assigns a rank order to each type of offence based on the Uniform Crime Reporting program classification of Part I and Part 2 offenses. "
   ]
  },
  {
   "cell_type": "code",
   "execution_count": 10,
   "metadata": {},
   "outputs": [],
   "source": [
    "# offense ranking according to the UCR hierarchy\n",
    "offense_ranking = {\n",
    "    'Murder and Nonnegligent Manslaughter': 1,\n",
    "    'Negligent Manslaughter': 1,\n",
    "    'Rape': 2,\n",
    "    'Robbery': 3,\n",
    "    'Aggravated Assault': 4,\n",
    "    'Burglary/Breaking and Entering': 5,\n",
    "    'Larceny-theft': 6,\n",
    "    'Motor Vehicle Theft': 7,\n",
    "    'Arson': 8,\n",
    "    'Other Assaults': 9,\n",
    "    'Counterfeiting / Forgery': 10,\n",
    "    'Fraud': 11,\n",
    "    'Embezzlement': 12,\n",
    "    'Extortion/Blackmail': 12,\n",
    "    'Stolen Property Offenses': 13,\n",
    "    'Vandalism': 14,\n",
    "    'Weapons: Carrying, Possessing, etc.': 15,\n",
    "    'Prostitution and Commercialized Vice': 16,\n",
    "    'Pornography / Obscene Material': 16,\n",
    "    'Sex Offenses': 17,\n",
    "    'Drug Abuse Violations': 18,\n",
    "    'Drug Equipment Violations': 18,\n",
    "    'Offenses Against Family and Children': 19,\n",
    "    'Driving Under the Influence': 20,\n",
    "    'Liqour Laws': 21,\n",
    "    'Drunkenness': 22,\n",
    "    'Disorderly Conduct': 22,\n",
    "    'All Other Offenses': 23,\n",
    "    'Bribery': 23,\n",
    "    'Curfew and Loitering Laws': 23,\n",
    "    'Animal Cruelty': 23,\n",
    "    'Kidnapping/Abduction': 24\n",
    "}\n",
    "\n",
    "# Assign the rank to each offense\n",
    "df['Offense_Rank'] = df['General _Offense_Categorization'].map(offense_ranking)"
   ]
  },
  {
   "cell_type": "code",
   "execution_count": 12,
   "metadata": {},
   "outputs": [],
   "source": [
    "from sklearn.preprocessing import OrdinalEncoder\n",
    "\n",
    "# Encoding 'age_range'\n",
    "ordinal_encoder = OrdinalEncoder()\n",
    "df['age_range_encoded'] = ordinal_encoder.fit_transform(df[['Age_Range']])\n"
   ]
  },
  {
   "cell_type": "code",
   "execution_count": 13,
   "metadata": {},
   "outputs": [
    {
     "name": "stdout",
     "output_type": "stream",
     "text": [
      "<class 'pandas.core.frame.DataFrame'>\n",
      "RangeIndex: 445289 entries, 0 to 445288\n",
      "Data columns (total 55 columns):\n",
      " #   Column                           Non-Null Count   Dtype         \n",
      "---  ------                           --------------   -----         \n",
      " 0   Report_No                        445289 non-null  object        \n",
      " 1   Year                             445289 non-null  int64         \n",
      " 2   Quarter                          445289 non-null  int64         \n",
      " 3   Month                            445289 non-null  int64         \n",
      " 4   Day_of_Week                      445289 non-null  int64         \n",
      " 5   From_Date                        445289 non-null  object        \n",
      " 6   From_Time                        445289 non-null  int64         \n",
      " 7   Adjusted_To_Date                 445289 non-null  object        \n",
      " 8   Adjusted_To_Time                 445289 non-null  int64         \n",
      " 9   General _Offense_Categorization  445289 non-null  object        \n",
      " 10  Type_of_Crime                    445289 non-null  object        \n",
      " 11  UCR_Offense_Classification       445289 non-null  object        \n",
      " 12  NIBRS                            445289 non-null  object        \n",
      " 13  NIBRS Offense Group              445289 non-null  object        \n",
      " 14  Age_Range                        445289 non-null  object        \n",
      " 15  Is_Violent                       445289 non-null  int64         \n",
      " 16  Is_Property_Crime                445289 non-null  int64         \n",
      " 17  Is_Crimes_Against_Person         445289 non-null  int64         \n",
      " 18  Is_Crimes_Against_Society        445289 non-null  int64         \n",
      " 19  From_DateTime                    445289 non-null  datetime64[ns]\n",
      " 20  Adjusted_To_DateTime             445289 non-null  datetime64[ns]\n",
      " 21  Duration                         445289 non-null  float64       \n",
      " 22  sin_Quarter                      445289 non-null  float64       \n",
      " 23  cos_Quarter                      445289 non-null  float64       \n",
      " 24  sin_Months                       445289 non-null  float64       \n",
      " 25  cos_Months                       445289 non-null  float64       \n",
      " 26  sin_DayOfWeek                    445289 non-null  float64       \n",
      " 27  cos_DayOfWeek                    445289 non-null  float64       \n",
      " 28  sin_From_Time                    445289 non-null  float64       \n",
      " 29  cos_From_Time                    445289 non-null  float64       \n",
      " 30  sin_Adj_To_Time                  445289 non-null  float64       \n",
      " 31  cos_Adj_To_Time                  445289 non-null  float64       \n",
      " 32  Year_Quarter                     445289 non-null  object        \n",
      " 33  2019_Q1                          445289 non-null  uint8         \n",
      " 34  2019_Q2                          445289 non-null  uint8         \n",
      " 35  2019_Q3                          445289 non-null  uint8         \n",
      " 36  2019_Q4                          445289 non-null  uint8         \n",
      " 37  2020_Q1                          445289 non-null  uint8         \n",
      " 38  2020_Q2                          445289 non-null  uint8         \n",
      " 39  2020_Q3                          445289 non-null  uint8         \n",
      " 40  2020_Q4                          445289 non-null  uint8         \n",
      " 41  2021_Q1                          445289 non-null  uint8         \n",
      " 42  2021_Q2                          445289 non-null  uint8         \n",
      " 43  2021_Q3                          445289 non-null  uint8         \n",
      " 44  2021_Q4                          445289 non-null  uint8         \n",
      " 45  2022_Q1                          445289 non-null  uint8         \n",
      " 46  2022_Q2                          445289 non-null  uint8         \n",
      " 47  2022_Q3                          445289 non-null  uint8         \n",
      " 48  2022_Q4                          445289 non-null  uint8         \n",
      " 49  2023_Q1                          445289 non-null  uint8         \n",
      " 50  2023_Q2                          445289 non-null  uint8         \n",
      " 51  2023_Q3                          445289 non-null  uint8         \n",
      " 52  2023_Q4                          445289 non-null  uint8         \n",
      " 53  Offense_Rank                     445289 non-null  int64         \n",
      " 54  age_range_encoded                445289 non-null  float64       \n",
      "dtypes: datetime64[ns](2), float64(12), int64(11), object(10), uint8(20)\n",
      "memory usage: 127.4+ MB\n",
      "None\n"
     ]
    }
   ],
   "source": [
    "print(df.info())"
   ]
  },
  {
   "cell_type": "markdown",
   "metadata": {},
   "source": [
    "## Drop Columns"
   ]
  },
  {
   "cell_type": "code",
   "execution_count": 14,
   "metadata": {},
   "outputs": [],
   "source": [
    "# columns to drop\n",
    "columns_to_drop = [\n",
    "    'Report_No', 'Year', 'Quarter', 'Month', 'Day_of_Week',\n",
    "    'From_Date', 'Adjusted_To_Date', 'From_Time', 'Adjusted_To_Time',\n",
    "    'General _Offense_Categorization', 'Type_of_Crime',\n",
    "    'UCR_Offense_Classification', 'NIBRS', 'NIBRS Offense Group','From_DateTime',\n",
    "    'Adjusted_To_DateTime', 'Year_Quarter','Age_Range'\n",
    "]\n",
    "\n",
    "# drop specified columns\n",
    "df.drop(columns=columns_to_drop, inplace=True)"
   ]
  },
  {
   "cell_type": "code",
   "execution_count": 15,
   "metadata": {},
   "outputs": [
    {
     "name": "stdout",
     "output_type": "stream",
     "text": [
      "<class 'pandas.core.frame.DataFrame'>\n",
      "RangeIndex: 445289 entries, 0 to 445288\n",
      "Data columns (total 37 columns):\n",
      " #   Column                     Non-Null Count   Dtype  \n",
      "---  ------                     --------------   -----  \n",
      " 0   Is_Violent                 445289 non-null  int64  \n",
      " 1   Is_Property_Crime          445289 non-null  int64  \n",
      " 2   Is_Crimes_Against_Person   445289 non-null  int64  \n",
      " 3   Is_Crimes_Against_Society  445289 non-null  int64  \n",
      " 4   Duration                   445289 non-null  float64\n",
      " 5   sin_Quarter                445289 non-null  float64\n",
      " 6   cos_Quarter                445289 non-null  float64\n",
      " 7   sin_Months                 445289 non-null  float64\n",
      " 8   cos_Months                 445289 non-null  float64\n",
      " 9   sin_DayOfWeek              445289 non-null  float64\n",
      " 10  cos_DayOfWeek              445289 non-null  float64\n",
      " 11  sin_From_Time              445289 non-null  float64\n",
      " 12  cos_From_Time              445289 non-null  float64\n",
      " 13  sin_Adj_To_Time            445289 non-null  float64\n",
      " 14  cos_Adj_To_Time            445289 non-null  float64\n",
      " 15  2019_Q1                    445289 non-null  uint8  \n",
      " 16  2019_Q2                    445289 non-null  uint8  \n",
      " 17  2019_Q3                    445289 non-null  uint8  \n",
      " 18  2019_Q4                    445289 non-null  uint8  \n",
      " 19  2020_Q1                    445289 non-null  uint8  \n",
      " 20  2020_Q2                    445289 non-null  uint8  \n",
      " 21  2020_Q3                    445289 non-null  uint8  \n",
      " 22  2020_Q4                    445289 non-null  uint8  \n",
      " 23  2021_Q1                    445289 non-null  uint8  \n",
      " 24  2021_Q2                    445289 non-null  uint8  \n",
      " 25  2021_Q3                    445289 non-null  uint8  \n",
      " 26  2021_Q4                    445289 non-null  uint8  \n",
      " 27  2022_Q1                    445289 non-null  uint8  \n",
      " 28  2022_Q2                    445289 non-null  uint8  \n",
      " 29  2022_Q3                    445289 non-null  uint8  \n",
      " 30  2022_Q4                    445289 non-null  uint8  \n",
      " 31  2023_Q1                    445289 non-null  uint8  \n",
      " 32  2023_Q2                    445289 non-null  uint8  \n",
      " 33  2023_Q3                    445289 non-null  uint8  \n",
      " 34  2023_Q4                    445289 non-null  uint8  \n",
      " 35  Offense_Rank               445289 non-null  int64  \n",
      " 36  age_range_encoded          445289 non-null  float64\n",
      "dtypes: float64(12), int64(5), uint8(20)\n",
      "memory usage: 66.2 MB\n",
      "None\n",
      "Is_Violent                   0\n",
      "Is_Property_Crime            0\n",
      "Is_Crimes_Against_Person     0\n",
      "Is_Crimes_Against_Society    0\n",
      "Duration                     0\n",
      "sin_Quarter                  0\n",
      "cos_Quarter                  0\n",
      "sin_Months                   0\n",
      "cos_Months                   0\n",
      "sin_DayOfWeek                0\n",
      "cos_DayOfWeek                0\n",
      "sin_From_Time                0\n",
      "cos_From_Time                0\n",
      "sin_Adj_To_Time              0\n",
      "cos_Adj_To_Time              0\n",
      "2019_Q1                      0\n",
      "2019_Q2                      0\n",
      "2019_Q3                      0\n",
      "2019_Q4                      0\n",
      "2020_Q1                      0\n",
      "2020_Q2                      0\n",
      "2020_Q3                      0\n",
      "2020_Q4                      0\n",
      "2021_Q1                      0\n",
      "2021_Q2                      0\n",
      "2021_Q3                      0\n",
      "2021_Q4                      0\n",
      "2022_Q1                      0\n",
      "2022_Q2                      0\n",
      "2022_Q3                      0\n",
      "2022_Q4                      0\n",
      "2023_Q1                      0\n",
      "2023_Q2                      0\n",
      "2023_Q3                      0\n",
      "2023_Q4                      0\n",
      "Offense_Rank                 0\n",
      "age_range_encoded            0\n",
      "dtype: int64\n"
     ]
    }
   ],
   "source": [
    "print(df.info())\n",
    "print(df.isnull().sum())"
   ]
  },
  {
   "cell_type": "code",
   "execution_count": 16,
   "metadata": {},
   "outputs": [
    {
     "name": "stdout",
     "output_type": "stream",
     "text": [
      "   Is_Violent  Is_Property_Crime  Is_Crimes_Against_Person  \\\n",
      "0           1                  0                         1   \n",
      "1           1                  0                         1   \n",
      "2           1                  1                         0   \n",
      "3           1                  0                         1   \n",
      "4           0                  0                         0   \n",
      "5           0                  0                         0   \n",
      "6           0                  0                         0   \n",
      "7           0                  0                         0   \n",
      "8           0                  0                         1   \n",
      "9           0                  0                         0   \n",
      "\n",
      "   Is_Crimes_Against_Society  Duration   sin_Quarter   cos_Quarter  \\\n",
      "0                          0     295.0  1.000000e+00  1.000000e+00   \n",
      "1                          0       7.0  1.224647e-16  1.224647e-16   \n",
      "2                          0      30.0  1.224647e-16  1.224647e-16   \n",
      "3                          0     240.0  1.224647e-16  1.224647e-16   \n",
      "4                          1       2.0  1.224647e-16  1.224647e-16   \n",
      "5                          1      46.0  1.224647e-16  1.224647e-16   \n",
      "6                          1      -1.0  1.224647e-16  1.224647e-16   \n",
      "7                          1     120.0  1.224647e-16  1.224647e-16   \n",
      "8                          0       0.0  1.224647e-16  1.224647e-16   \n",
      "9                          1       0.0  1.000000e+00  1.000000e+00   \n",
      "\n",
      "   sin_Months    cos_Months  sin_DayOfWeek  ...  2022_Q1  2022_Q2  2022_Q3  \\\n",
      "0    1.000000  6.123234e-17       0.433884  ...        0        0        0   \n",
      "1    0.866025 -5.000000e-01       0.000000  ...        0        0        0   \n",
      "2    0.500000 -8.660254e-01      -0.433884  ...        0        0        0   \n",
      "3    0.866025 -5.000000e-01       0.433884  ...        0        0        0   \n",
      "4    0.500000 -8.660254e-01      -0.433884  ...        0        0        0   \n",
      "5    0.866025 -5.000000e-01      -0.781831  ...        0        0        0   \n",
      "6    0.866025 -5.000000e-01      -0.974928  ...        0        0        0   \n",
      "7    0.866025 -5.000000e-01      -0.433884  ...        0        0        0   \n",
      "8    0.866025 -5.000000e-01      -0.781831  ...        0        0        0   \n",
      "9    1.000000  6.123234e-17       0.974928  ...        0        0        0   \n",
      "\n",
      "   2022_Q4  2023_Q1  2023_Q2  2023_Q3  2023_Q4  Offense_Rank  \\\n",
      "0        0        0        0        0        0             4   \n",
      "1        0        0        0        0        0             4   \n",
      "2        0        0        0        0        0             3   \n",
      "3        0        0        0        0        0             4   \n",
      "4        0        0        0        0        0             9   \n",
      "5        0        0        0        0        0            23   \n",
      "6        0        0        0        0        0            18   \n",
      "7        0        0        0        0        0             6   \n",
      "8        0        0        0        0        0            17   \n",
      "9        0        0        0        0        0             9   \n",
      "\n",
      "   age_range_encoded  \n",
      "0                0.0  \n",
      "1                2.0  \n",
      "2                1.0  \n",
      "3                1.0  \n",
      "4                2.0  \n",
      "5                3.0  \n",
      "6                2.0  \n",
      "7                3.0  \n",
      "8                1.0  \n",
      "9                1.0  \n",
      "\n",
      "[10 rows x 37 columns]\n"
     ]
    }
   ],
   "source": [
    "print(df.head(n=10))"
   ]
  },
  {
   "cell_type": "markdown",
   "metadata": {},
   "source": [
    "## Export DataFrame to New CSV"
   ]
  },
  {
   "cell_type": "code",
   "execution_count": 17,
   "metadata": {},
   "outputs": [],
   "source": [
    "# file path for the new file\n",
    "file_path = 'KCPD-5-Year-Analysis-Model.csv'\n",
    "\n",
    "# export the dataframe\n",
    "df.to_csv(file_path,index=False)"
   ]
  }
 ],
 "metadata": {
  "kernelspec": {
   "display_name": "base",
   "language": "python",
   "name": "python3"
  },
  "language_info": {
   "codemirror_mode": {
    "name": "ipython",
    "version": 3
   },
   "file_extension": ".py",
   "mimetype": "text/x-python",
   "name": "python",
   "nbconvert_exporter": "python",
   "pygments_lexer": "ipython3",
   "version": "3.9.12"
  }
 },
 "nbformat": 4,
 "nbformat_minor": 2
}
