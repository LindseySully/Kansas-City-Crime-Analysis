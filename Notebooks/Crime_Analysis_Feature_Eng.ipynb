{
 "cells": [
  {
   "cell_type": "markdown",
   "metadata": {},
   "source": [
    "## Libraries for Modeling"
   ]
  },
  {
   "cell_type": "code",
   "execution_count": 2,
   "metadata": {},
   "outputs": [],
   "source": [
    "# Libraries\n",
    "import pandas as pd\n",
    "import numpy as np\n",
    "from datetime import datetime, time"
   ]
  },
  {
   "cell_type": "markdown",
   "metadata": {},
   "source": [
    "## Read CSV File"
   ]
  },
  {
   "cell_type": "code",
   "execution_count": 4,
   "metadata": {},
   "outputs": [
    {
     "name": "stdout",
     "output_type": "stream",
     "text": [
      "<class 'pandas.core.frame.DataFrame'>\n",
      "RangeIndex: 445289 entries, 0 to 445288\n",
      "Data columns (total 30 columns):\n",
      " #   Column                           Non-Null Count   Dtype  \n",
      "---  ------                           --------------   -----  \n",
      " 0   Report_No                        445289 non-null  object \n",
      " 1   Reported_Date                    445289 non-null  object \n",
      " 2   Reported_Time                    445289 non-null  object \n",
      " 3   Year                             445289 non-null  int64  \n",
      " 4   Quarter                          445289 non-null  int64  \n",
      " 5   Month                            445289 non-null  object \n",
      " 6   Day_of_Week                      445289 non-null  object \n",
      " 7   From_Date                        445289 non-null  object \n",
      " 8   From_Time                        445289 non-null  object \n",
      " 9   Adjusted_To_Date                 445289 non-null  object \n",
      " 10  Adjusted_To_Time                 445289 non-null  object \n",
      " 11  Offense                          445289 non-null  object \n",
      " 12  Description                      421172 non-null  object \n",
      " 13  General _Offense_Categorization  445289 non-null  object \n",
      " 14  Type_of_Crime                    445289 non-null  object \n",
      " 15  UCR_Offense_Classification       445289 non-null  object \n",
      " 16  NIBRS                            445289 non-null  object \n",
      " 17  NIBRS Offense Group              445289 non-null  object \n",
      " 18  Address                          445289 non-null  object \n",
      " 19  City                             445289 non-null  object \n",
      " 20  Zip_Code                         409766 non-null  float64\n",
      " 21  Area                             443195 non-null  object \n",
      " 22  Involvement                      445289 non-null  object \n",
      " 23  Race                             385287 non-null  object \n",
      " 24  Sex                              388460 non-null  object \n",
      " 25  Age                              324837 non-null  float64\n",
      " 26  Age_Range                        371941 non-null  object \n",
      " 27  Location                         389442 non-null  object \n",
      " 28  Firearm_Flag                     445289 non-null  bool   \n",
      " 29  DVFlag                           445289 non-null  bool   \n",
      "dtypes: bool(2), float64(2), int64(2), object(24)\n",
      "memory usage: 96.0+ MB\n",
      "None\n"
     ]
    }
   ],
   "source": [
    "csv_file_path = 'Data/Data_Sets/KCPD_5_Year_Analysis_Cleaned.csv'\n",
    "df = pd.read_csv(csv_file_path)\n",
    "print(df.info())"
   ]
  },
  {
   "cell_type": "markdown",
   "metadata": {},
   "source": [
    "## Creation of New Feature - Time of Day"
   ]
  },
  {
   "cell_type": "code",
   "execution_count": null,
   "metadata": {},
   "outputs": [],
   "source": [
    "# Function to categorize time of day\n",
    "def get_time_of_day(from_time_str):\n",
    "    from_time = pd.to_datetime(from_time_str, format='%H:%M:%S').time()\n",
    "    \n",
    "    if from_time >= time(5, 0) and from_time < time(12, 0):\n",
    "        return 'Morning'\n",
    "    elif from_time >= time(12, 0) and from_time < time(17, 0):\n",
    "        return 'Afternoon'\n",
    "    elif from_time >= time(17, 0) and from_time < time(21, 0):\n",
    "        return 'Evening'\n",
    "    else:\n",
    "        return 'Night'\n",
    "\n",
    "# Apply the function to each row in the DataFrame to create the new 'Time_of_Day' column\n",
    "df['Time_of_Day'] = df['From_Time'].apply(get_time_of_day)\n"
   ]
  },
  {
   "cell_type": "markdown",
   "metadata": {},
   "source": [
    "## Cyclical Encoding\n",
    "Cyclical Encoding of the 'Months' column into sine & cosine values as new columns in the DataFrame."
   ]
  },
  {
   "cell_type": "code",
   "execution_count": null,
   "metadata": {},
   "outputs": [],
   "source": [
    "# Apply cyclical encoding to Months\n",
    "df['sin_Months'] = np.sin(2 * np.pi * df['Months']/12.0)\n",
    "df['cos_Months'] = np.cos(2 * np.pi * df['Months']/12.0)\n",
    "\n",
    "# Apply cyclical encoding to Day of Week for Weekday vs. Weekend Analysis\n",
    "df['sin_DayOfWeek'] = np.sin(2 * np.pi * df['Day_of_Week']/7.0)\n",
    "df['cos_DayOfWeek'] = np.cos(2 * np.pi * df['Day_of_Week']/7.0)\n"
   ]
  }
 ],
 "metadata": {
  "kernelspec": {
   "display_name": "base",
   "language": "python",
   "name": "python3"
  },
  "language_info": {
   "codemirror_mode": {
    "name": "ipython",
    "version": 3
   },
   "file_extension": ".py",
   "mimetype": "text/x-python",
   "name": "python",
   "nbconvert_exporter": "python",
   "pygments_lexer": "ipython3",
   "version": "3.9.12"
  }
 },
 "nbformat": 4,
 "nbformat_minor": 2
}
